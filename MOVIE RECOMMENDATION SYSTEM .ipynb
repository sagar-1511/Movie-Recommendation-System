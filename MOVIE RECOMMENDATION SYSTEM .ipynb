{
 "cells": [
  {
   "cell_type": "code",
   "execution_count": 9,
   "id": "86ef0847",
   "metadata": {},
   "outputs": [],
   "source": [
    "import numpy as np\n",
    "import pandas as pd\n",
    "import difflib #used to get closest matchind moviein case of spelling mistake\n",
    "from sklearn.feature_extraction.text import TfidfVectorizer\n",
    "from sklearn.metrics.pairwise import cosine_similarity"
   ]
  },
  {
   "cell_type": "code",
   "execution_count": 11,
   "id": "b1309138",
   "metadata": {},
   "outputs": [
    {
     "data": {
      "text/html": [
       "<div>\n",
       "<style scoped>\n",
       "    .dataframe tbody tr th:only-of-type {\n",
       "        vertical-align: middle;\n",
       "    }\n",
       "\n",
       "    .dataframe tbody tr th {\n",
       "        vertical-align: top;\n",
       "    }\n",
       "\n",
       "    .dataframe thead th {\n",
       "        text-align: right;\n",
       "    }\n",
       "</style>\n",
       "<table border=\"1\" class=\"dataframe\">\n",
       "  <thead>\n",
       "    <tr style=\"text-align: right;\">\n",
       "      <th></th>\n",
       "      <th>poster</th>\n",
       "      <th>title</th>\n",
       "      <th>certificate</th>\n",
       "      <th>runtime</th>\n",
       "      <th>genre</th>\n",
       "      <th>rating</th>\n",
       "      <th>about</th>\n",
       "      <th>director</th>\n",
       "      <th>stars</th>\n",
       "      <th>votes</th>\n",
       "      <th>gross_earn</th>\n",
       "    </tr>\n",
       "  </thead>\n",
       "  <tbody>\n",
       "    <tr>\n",
       "      <th>0</th>\n",
       "      <td>https://m.media-amazon.com/images/S/sash/4Fyxw...</td>\n",
       "      <td>The Shawshank Redemption</td>\n",
       "      <td>15</td>\n",
       "      <td>142 min</td>\n",
       "      <td>Drama</td>\n",
       "      <td>9.3</td>\n",
       "      <td>Two imprisoned men bond over a number of years...</td>\n",
       "      <td>Frank Darabont</td>\n",
       "      <td>('Tim Robbins',), ('Morgan Freeman',), ('Bob G...</td>\n",
       "      <td>26,26,905</td>\n",
       "      <td>$28.34M</td>\n",
       "    </tr>\n",
       "    <tr>\n",
       "      <th>1</th>\n",
       "      <td>https://m.media-amazon.com/images/S/sash/4Fyxw...</td>\n",
       "      <td>The Dark Knight</td>\n",
       "      <td>12A</td>\n",
       "      <td>152 min</td>\n",
       "      <td>Action, Crime, Drama</td>\n",
       "      <td>9.0</td>\n",
       "      <td>When the menace known as the Joker wreaks havo...</td>\n",
       "      <td>Christopher Nolan</td>\n",
       "      <td>('Christian Bale',), ('Heath Ledger',), ('Aaro...</td>\n",
       "      <td>25,98,173</td>\n",
       "      <td>$534.86M</td>\n",
       "    </tr>\n",
       "    <tr>\n",
       "      <th>2</th>\n",
       "      <td>https://m.media-amazon.com/images/S/sash/4Fyxw...</td>\n",
       "      <td>Inception</td>\n",
       "      <td>12A</td>\n",
       "      <td>148 min</td>\n",
       "      <td>Action, Adventure, Sci-Fi</td>\n",
       "      <td>8.8</td>\n",
       "      <td>A thief who steals corporate secrets through t...</td>\n",
       "      <td>Christopher Nolan</td>\n",
       "      <td>('Leonardo DiCaprio',), ('Joseph Gordon-Levitt...</td>\n",
       "      <td>23,04,062</td>\n",
       "      <td>$292.58M</td>\n",
       "    </tr>\n",
       "    <tr>\n",
       "      <th>3</th>\n",
       "      <td>https://m.media-amazon.com/images/S/sash/4Fyxw...</td>\n",
       "      <td>Fight Club</td>\n",
       "      <td>18</td>\n",
       "      <td>139 min</td>\n",
       "      <td>Drama</td>\n",
       "      <td>8.8</td>\n",
       "      <td>An insomniac office worker and a devil-may-car...</td>\n",
       "      <td>David Fincher</td>\n",
       "      <td>('Brad Pitt',), ('Edward Norton',), ('Meat Loa...</td>\n",
       "      <td>20,71,088</td>\n",
       "      <td>$37.03M</td>\n",
       "    </tr>\n",
       "    <tr>\n",
       "      <th>4</th>\n",
       "      <td>https://m.media-amazon.com/images/S/sash/4Fyxw...</td>\n",
       "      <td>Pulp Fiction</td>\n",
       "      <td>18</td>\n",
       "      <td>154 min</td>\n",
       "      <td>Crime, Drama</td>\n",
       "      <td>8.9</td>\n",
       "      <td>The lives of two mob hitmen, a boxer, a gangst...</td>\n",
       "      <td>Quentin Tarantino</td>\n",
       "      <td>('John Travolta',), ('Uma Thurman',), ('Samuel...</td>\n",
       "      <td>20,11,013</td>\n",
       "      <td>$107.93M</td>\n",
       "    </tr>\n",
       "  </tbody>\n",
       "</table>\n",
       "</div>"
      ],
      "text/plain": [
       "                                              poster  \\\n",
       "0  https://m.media-amazon.com/images/S/sash/4Fyxw...   \n",
       "1  https://m.media-amazon.com/images/S/sash/4Fyxw...   \n",
       "2  https://m.media-amazon.com/images/S/sash/4Fyxw...   \n",
       "3  https://m.media-amazon.com/images/S/sash/4Fyxw...   \n",
       "4  https://m.media-amazon.com/images/S/sash/4Fyxw...   \n",
       "\n",
       "                      title certificate  runtime                      genre  \\\n",
       "0  The Shawshank Redemption          15  142 min                      Drama   \n",
       "1           The Dark Knight         12A  152 min       Action, Crime, Drama   \n",
       "2                 Inception         12A  148 min  Action, Adventure, Sci-Fi   \n",
       "3                Fight Club          18  139 min                      Drama   \n",
       "4              Pulp Fiction          18  154 min               Crime, Drama   \n",
       "\n",
       "   rating                                              about  \\\n",
       "0     9.3  Two imprisoned men bond over a number of years...   \n",
       "1     9.0  When the menace known as the Joker wreaks havo...   \n",
       "2     8.8  A thief who steals corporate secrets through t...   \n",
       "3     8.8  An insomniac office worker and a devil-may-car...   \n",
       "4     8.9  The lives of two mob hitmen, a boxer, a gangst...   \n",
       "\n",
       "            director                                              stars  \\\n",
       "0     Frank Darabont  ('Tim Robbins',), ('Morgan Freeman',), ('Bob G...   \n",
       "1  Christopher Nolan  ('Christian Bale',), ('Heath Ledger',), ('Aaro...   \n",
       "2  Christopher Nolan  ('Leonardo DiCaprio',), ('Joseph Gordon-Levitt...   \n",
       "3      David Fincher  ('Brad Pitt',), ('Edward Norton',), ('Meat Loa...   \n",
       "4  Quentin Tarantino  ('John Travolta',), ('Uma Thurman',), ('Samuel...   \n",
       "\n",
       "       votes gross_earn  \n",
       "0  26,26,905    $28.34M  \n",
       "1  25,98,173   $534.86M  \n",
       "2  23,04,062   $292.58M  \n",
       "3  20,71,088    $37.03M  \n",
       "4  20,11,013   $107.93M  "
      ]
     },
     "execution_count": 11,
     "metadata": {},
     "output_type": "execute_result"
    }
   ],
   "source": [
    "dataset=pd.read_csv(\"C:/Users/Sagar Dhyani/Downloads/DATASETS/IMBD movies.csv\")\n",
    "dataset.head()"
   ]
  },
  {
   "cell_type": "code",
   "execution_count": 12,
   "id": "90e4b91d",
   "metadata": {},
   "outputs": [
    {
     "data": {
      "text/plain": [
       "(5000, 11)"
      ]
     },
     "execution_count": 12,
     "metadata": {},
     "output_type": "execute_result"
    }
   ],
   "source": [
    "dataset.shape"
   ]
  },
  {
   "cell_type": "code",
   "execution_count": 13,
   "id": "4c962697",
   "metadata": {},
   "outputs": [
    {
     "name": "stdout",
     "output_type": "stream",
     "text": [
      "['genre', 'stars', 'director', 'about']\n"
     ]
    }
   ],
   "source": [
    "#selecting onlu revelent feature\n",
    "selected_features=[\"genre\",\"stars\",\"director\",\"about\"] \n",
    "print(selected_features)"
   ]
  },
  {
   "cell_type": "code",
   "execution_count": 14,
   "id": "8900849f",
   "metadata": {},
   "outputs": [
    {
     "data": {
      "text/plain": [
       "poster           0\n",
       "title            0\n",
       "certificate      0\n",
       "runtime          0\n",
       "genre           30\n",
       "rating           0\n",
       "about           14\n",
       "director         0\n",
       "stars            0\n",
       "votes            0\n",
       "gross_earn     415\n",
       "dtype: int64"
      ]
     },
     "execution_count": 14,
     "metadata": {},
     "output_type": "execute_result"
    }
   ],
   "source": [
    "dataset.isnull().sum()"
   ]
  },
  {
   "cell_type": "code",
   "execution_count": 15,
   "id": "d1befbdb",
   "metadata": {},
   "outputs": [],
   "source": [
    "#replacing null values with null string\n",
    "\n",
    "for features in selected_features:\n",
    "    dataset[features]=dataset[features].fillna(\"\")"
   ]
  },
  {
   "cell_type": "code",
   "execution_count": 16,
   "id": "abed9c55",
   "metadata": {},
   "outputs": [
    {
     "data": {
      "text/plain": [
       "'sagar=[\"poster\",\"title\",\"certificate\",\"runtime\",\"about\",\"votes\",\"gross_earn\"]\\nmain_data=dataset.drop(sagar,axis=1)\\nmain_data'"
      ]
     },
     "execution_count": 16,
     "metadata": {},
     "output_type": "execute_result"
    }
   ],
   "source": [
    "'''sagar=[\"poster\",\"title\",\"certificate\",\"runtime\",\"about\",\"votes\",\"gross_earn\"]\n",
    "main_data=dataset.drop(sagar,axis=1)\n",
    "main_data'''"
   ]
  },
  {
   "cell_type": "code",
   "execution_count": 17,
   "id": "ffdf0d9d",
   "metadata": {},
   "outputs": [
    {
     "data": {
      "text/plain": [
       "0       Drama  Two imprisoned men bond over a number o...\n",
       "1       Action, Crime, Drama  When the menace known as...\n",
       "2       Action, Adventure, Sci-Fi  A thief who steals ...\n",
       "3       Drama  An insomniac office worker and a devil-...\n",
       "4       Crime, Drama  The lives of two mob hitmen, a b...\n",
       "                              ...                        \n",
       "4995    Comedy, Drama, Musical  In 1850 Oregon, when a...\n",
       "4996    Comedy, Romance  Unrequited love motivates a g...\n",
       "4997      A young couple's enduring love is tested whe...\n",
       "4998    Comedy, Drama, Family  A 'pleasantly plump' te...\n",
       "4999    Drama, Western  A gambler and a prostitute bec...\n",
       "Length: 5000, dtype: object"
      ]
     },
     "execution_count": 17,
     "metadata": {},
     "output_type": "execute_result"
    }
   ],
   "source": [
    "#combine all the selected feature\n",
    "combine_feature=dataset[\"genre\"]+'  '+dataset[\"about\"]+'    '+dataset[\"director\"]+'    '+dataset[\"stars\"]\n",
    "combine_feature"
   ]
  },
  {
   "cell_type": "code",
   "execution_count": 18,
   "id": "5443efe5",
   "metadata": {},
   "outputs": [],
   "source": [
    "#converting text data inot feature vector\n",
    "vectorizer=TfidfVectorizer()"
   ]
  },
  {
   "cell_type": "code",
   "execution_count": 19,
   "id": "ecc09bcf",
   "metadata": {},
   "outputs": [],
   "source": [
    "#feature_vector are the vector that are numerical type\n",
    "feature_vector=vectorizer.fit_transform(combine_feature)"
   ]
  },
  {
   "cell_type": "code",
   "execution_count": 20,
   "id": "12eabf9d",
   "metadata": {},
   "outputs": [
    {
     "name": "stdout",
     "output_type": "stream",
     "text": [
      "  (0, 16797)\t0.24355610434745792\n",
      "  (0, 21029)\t0.1411487444808571\n",
      "  (0, 8336)\t0.27177682560803823\n",
      "  (0, 2375)\t0.16455855657528637\n",
      "  (0, 7408)\t0.17143112632163102\n",
      "  (0, 13078)\t0.16601389214263193\n",
      "  (0, 16465)\t0.18837193322344514\n",
      "  (0, 19470)\t0.15008297480739535\n",
      "  (0, 4796)\t0.24355610434745792\n",
      "  (0, 7359)\t0.1506810299544407\n",
      "  (0, 4937)\t0.27177682560803823\n",
      "  (0, 4002)\t0.23319313889195292\n",
      "  (0, 386)\t0.23794080599826112\n",
      "  (0, 19410)\t0.14835548248541572\n",
      "  (0, 15922)\t0.20773237106533124\n",
      "  (0, 6540)\t0.27177682560803823\n",
      "  (0, 910)\t0.05203023324115255\n",
      "  (0, 18039)\t0.23794080599826112\n",
      "  (0, 7068)\t0.19398723157264194\n",
      "  (0, 21337)\t0.13662345287001557\n",
      "  (0, 13901)\t0.1012072101277977\n",
      "  (0, 13797)\t0.21184498737771726\n",
      "  (0, 14196)\t0.14835548248541572\n",
      "  (0, 2440)\t0.17143112632163102\n",
      "  (0, 12605)\t0.15453591361366806\n",
      "  :\t:\n",
      "  (4999, 15369)\t0.20101752443066614\n",
      "  (4999, 12828)\t0.22083053507401154\n",
      "  (4999, 10315)\t0.15910355180617025\n",
      "  (4999, 16094)\t0.18641601726967175\n",
      "  (4999, 19646)\t0.12313778372533751\n",
      "  (4999, 2916)\t0.15855907568295205\n",
      "  (4999, 6362)\t0.20350466913346218\n",
      "  (4999, 20220)\t0.16732669419676943\n",
      "  (4999, 17051)\t0.20622902791301714\n",
      "  (4999, 16085)\t0.17679825037638236\n",
      "  (4999, 1907)\t0.20350466913346218\n",
      "  (4999, 20758)\t0.17783778792517374\n",
      "  (4999, 1929)\t0.1352001277302347\n",
      "  (4999, 11087)\t0.19463915966027093\n",
      "  (4999, 20899)\t0.16080211871269776\n",
      "  (4999, 19314)\t0.08255182897381477\n",
      "  (4999, 13953)\t0.12282708357714464\n",
      "  (4999, 20901)\t0.15647931268133944\n",
      "  (4999, 16467)\t0.1046842747473323\n",
      "  (4999, 9503)\t0.05368763178384327\n",
      "  (4999, 13997)\t0.07805401009177948\n",
      "  (4999, 19308)\t0.04032874199768901\n",
      "  (4999, 21029)\t0.13099876937022897\n",
      "  (4999, 910)\t0.09657750126939814\n",
      "  (4999, 5748)\t0.04734780865954576\n"
     ]
    }
   ],
   "source": [
    "print(feature_vector)"
   ]
  },
  {
   "cell_type": "code",
   "execution_count": 21,
   "id": "c8c25bb5",
   "metadata": {},
   "outputs": [],
   "source": [
    "#getting the similarity  scores using cosine similarity\n",
    "'''what cosine similarity will do it will findout which movie is similar\n",
    "and then on basis of similarity it will suggest the movie'''\n",
    "similarity=cosine_similarity(feature_vector)"
   ]
  },
  {
   "cell_type": "code",
   "execution_count": 22,
   "id": "58ddf2aa",
   "metadata": {},
   "outputs": [
    {
     "name": "stdout",
     "output_type": "stream",
     "text": [
      "[[1.         0.02069178 0.0327956  ... 0.00405651 0.01317668 0.02593078]\n",
      " [0.02069178 1.         0.10391508 ... 0.01157516 0.0078923  0.02304427]\n",
      " [0.0327956  0.10391508 1.         ... 0.01195795 0.         0.00984718]\n",
      " ...\n",
      " [0.00405651 0.01157516 0.01195795 ... 1.         0.00657461 0.01287531]\n",
      " [0.01317668 0.0078923  0.         ... 0.00657461 1.         0.00827685]\n",
      " [0.02593078 0.02304427 0.00984718 ... 0.01287531 0.00827685 1.        ]]\n"
     ]
    }
   ],
   "source": [
    "print(similarity)"
   ]
  },
  {
   "cell_type": "code",
   "execution_count": 23,
   "id": "966a7c10",
   "metadata": {},
   "outputs": [
    {
     "data": {
      "text/plain": [
       "(5000, 5000)"
      ]
     },
     "execution_count": 23,
     "metadata": {},
     "output_type": "execute_result"
    }
   ],
   "source": [
    "similarity.shape"
   ]
  },
  {
   "cell_type": "code",
   "execution_count": 58,
   "id": "42b24720",
   "metadata": {},
   "outputs": [
    {
     "name": "stdout",
     "output_type": "stream",
     "text": [
      "enter your fav movie: Johnny English\n"
     ]
    }
   ],
   "source": [
    "#getting movie name\n",
    "movie_name=input(\"enter your fav movie: \")"
   ]
  },
  {
   "cell_type": "code",
   "execution_count": 59,
   "id": "fc9cbbdc",
   "metadata": {},
   "outputs": [
    {
     "name": "stdout",
     "output_type": "stream",
     "text": [
      "['The Shawshank Redemption', 'The Dark Knight', 'Inception', 'Fight Club', 'Pulp Fiction', 'Forrest Gump', 'The Lord of the Rings: The Fellowship of the Ring', 'The Matrix', 'The Lord of the Rings: The Return of the King', 'The Godfather', 'The Dark Knight Rises', 'The Lord of the Rings: The Two Towers', 'Seven', 'Avengers Assemble', 'Gladiator', 'Batman Begins', 'Django Unchained', 'Interstellar', 'Star Wars', 'The Silence of the Lambs', 'Avatar', 'Inglourious Basterds', 'Saving Private Ryan', 'The Departed', \"Schindler's List\", 'Memento', 'The Prestige', 'Star Wars: Episode V - The Empire Strikes Back', 'American Beauty', 'Pirates of the Caribbean: The Curse of the Black Pearl', 'Titanic', 'V for Vendetta', 'The Godfather: Part II', 'Shutter Island', 'American History X', 'The Green Mile', 'The Wolf of Wall Street', 'Terminator 2: Judgment Day', 'The Usual Suspects', 'Braveheart', 'Kill Bill: Vol. 1', 'Back to the Future', 'Goodfellas', 'Leon', 'WALL·E', 'The Sixth Sense', 'The Hunger Games', 'Iron Man', 'Finding Nemo', 'Star Wars: Return of the Jedi', \"One Flew Over the Cuckoo's Nest\", 'Guardians of the Galaxy', 'The Truman Show', 'Eternal Sunshine of the Spotless Mind', 'Up', 'Reservoir Dogs', 'Raiders of the Lost Ark', 'Sin City', 'The Lion King', 'Slumdog Millionaire', 'The Hobbit: An Unexpected Journey', 'Toy Story', 'Jurassic Park', 'No Country for Old Men', 'A Beautiful Mind', 'The Shining', '300', 'Good Will Hunting', 'Snatch', 'The Terminator', 'Die Hard', 'Monsters, Inc.', 'The Hangover', 'Gravity', 'Donnie Darko', 'Requiem for a Dream', 'Gone Girl', 'Alien', 'Star Wars: Episode VII - The Force Awakens', 'Gran Torino', 'A Clockwork Orange', 'Iron Man 3', 'Black Swan', 'Mad Max: Fury Road', 'Man of Steel', 'Spider-Man', 'Toy Story 3', 'Harry Potter and the Deathly Hallows: Part 2', 'Scarface', 'The Big Lebowski', 'Thor', 'Star Wars: Episode I - The Phantom Menace', 'Amélie', 'Silver Linings Playbook', 'City of God', 'District 9', 'I Am Legend', 'Catch Me If You Can', 'Skyfall', \"Pirates of the Caribbean: Dead Man's Chest\", 'Iron Man 2', 'Star Wars: Episode III - Revenge of the Sith', 'X-Men: First Class', 'Indiana Jones and the Last Crusade', 'Transformers', 'X-Men: Days of Future Past', 'Kill Bill: Vol. 2', 'Captain America: The First Avenger', 'Taxi Driver', 'Star Trek', \"The King's Speech\", 'The Good, the Bad and the Ugly', 'Untouchable', 'The Hunger Games: Catching Fire', 'The Pianist', 'Captain America: The Winter Soldier', 'The Bourne Ultimatum', 'Aliens', 'How to Train Your Dragon', 'Full Metal Jacket', 'Taken', 'The Hobbit: The Desolation of Smaug', 'Million Dollar Baby', 'The Social Network', 'The Incredibles', 'Sherlock Holmes', 'The Grand Budapest Hotel', 'Ratatouille', 'Ted', \"Pirates of the Caribbean: At World's End\", 'Casino Royale', 'Deadpool', 'Trainspotting', 'The Martian', \"Pan's Labyrinth\", 'Shrek', 'The Imitation Game', 'World War Z', 'Star Wars: Episode II - Attack of the Clones', 'Twelve Monkeys', 'Blade Runner', 'Avengers: Age of Ultron', 'The Curious Case of Benjamin Button', 'Prometheus', 'Fargo', 'X-Men', 'Argo', 'The Amazing Spider-Man', 'Apocalypse Now', '12 Angry Men', 'Now You See Me', \"Harry Potter and the Philosopher's Stone\", 'Life of Pi', '12 Years a Slave', 'Groundhog Day', 'Kick-Ass', 'Drive', 'Heat', 'Edge of Tomorrow', 'Independence Day', 'Looper', '2001: A Space Odyssey', 'Into the Wild', 'Superbad', 'Psycho', 'The Matrix Reloaded', 'Frozen', 'Life Is Beautiful', 'Limitless', 'Jurassic World', 'Spirited Away', 'Lock, Stock and Two Smoking Barrels', 'Juno', 'L.A. Confidential', 'Thor: The Dark World', 'Jaws', 'Spider-Man 2', '21 Jump Street', 'X-Men 2', 'The Bourne Identity', 'Rise of the Planet of the Apes', 'Men in Black', \"Ocean's Eleven\", 'The Revenant', 'Blood Diamond', 'Minority Report', 'Whiplash', 'Kingsman: The Secret Service', 'The Notebook', 'Shaun of the Dead', 'Cast Away', 'Star Trek Into Darkness', 'Birdman or (The Unexpected Virtue of Ignorance)', 'Watchmen', 'Casablanca', 'I, Robot', 'Oblivion', 'Harry Potter and the Chamber of Secrets', 'Zombieland', 'Despicable Me', 'Toy Story 2', 'Harry Potter and the Goblet of Fire', 'Rain Man', 'X-Men: The Last Stand', 'Prisoners', 'Spider-Man 3', 'Monty Python and the Holy Grail', 'Harry Potter and the Prisoner of Azkaban', 'Troy', 'Pacific Rim', 'Source Code', '500 Days of Summer', 'The Hangover Part II', 'Crazy, Stupid, Love.', 'Rocky', 'There Will Be Blood', 'Pirates of the Caribbean: On Stranger Tides', 'Mission: Impossible - Ghost Protocol', 'The Matrix Revolutions', 'The Great Gatsby', 'Children of Men', 'X-Men Origins: Wolverine', 'Crash', 'American Hustle', 'Edward Scissorhands', 'The Butterfly Effect', 'American Psycho', 'Batman v Superman: Dawn of Justice', 'Little Miss Sunshine', 'Oldboy', 'Harry Potter and the Order of the Phoenix', 'Her', 'The Hobbit: The Battle of the Five Armies', 'Horrible Bosses', 'Hot Fuzz', 'Big Fish', 'The Perks of Being a Wallflower', 'Mr. & Mrs. Smith', 'Twilight', 'The Bourne Supremacy', 'Hancock', 'The Fifth Element', 'Dr. Strangelove or: How I Learned to Stop Worrying and Love the Bomb', 'Inside Out', 'Divergent', 'Back to the Future Part II', 'Mystic River', 'Sherlock Holmes: A Game of Shadows', 'The Pursuit of Happyness', 'Elysium', 'Die Hard 4.0', 'War of the Worlds', 'Indiana Jones and the Kingdom of the Crystal Skull', 'Casino', 'The Day After Tomorrow', 'The Hurt Locker', 'Warrior', 'Quantum of Solace', 'The Girl with the Dragon Tattoo', 'Indiana Jones and the Temple of Doom', 'Ice Age', 'Harry Potter and the Deathly Hallows: Part 1', 'The Wolverine', 'Lucy', 'Transformers: Dark of the Moon', 'The Incredible Hulk', 'Dallas Buyers Club', 'American Gangster', 'American Sniper', 'Captain Phillips', 'Transformers: Revenge of the Fallen', 'Armageddon', 'Lost in Translation', 'Harry Potter and the Half-Blood Prince', 'The Amazing Spider-Man 2', 'Charlie and the Chocolate Factory', 'Love Actually', 'The Help', 'The Mummy', 'Dawn of the Planet of the Apes', 'The Last Samurai', \"We're the Millers\", 'King Kong', 'Rear Window', 'American Pie', 'Shrek 2', 'The Da Vinci Code', 'Gangs of New York', 'The 40 Year-Old Virgin', 'Rush', 'Ant-Man', 'Home Alone', 'This Is the End', 'The Maze Runner', 'Beauty and the Beast', 'Tropic Thunder', 'In Bruges', 'Kung Fu Panda', 'Alice in Wonderland', 'Training Day', 'Terminator 3: Rise of the Machines', 'The Hunger Games: Mockingjay - Part 1', 'In Time', 'The Terminal', 'Fury', 'Godzilla', 'Fast & Furious 6', 'Midnight in Paris', 'Zodiac', 'Mission: Impossible', 'Wanted', 'Die Hard: With a Vengeance', 'The Conjuring', 'Saw', 'Knocked Up', 'Citizen Kane', '28 Days Later', 'Borat: Cultural Learnings of America for Make Benefit Glorious Nation of Kazakhstan', 'Bruce Almighty', 'Cloverfield', 'The Illusionist', 'Tangled', 'The Princess Bride', 'Collateral', 'Nightcrawler', 'Black Hawk Down', 'The Wizard of Oz', 'Platoon', 'Predator', 'Dumb and Dumber', 'Ex Machina', 'Super 8', 'Despicable Me 2', 'The Chronicles of Narnia: The Lion, the Witch and the Wardrobe', 'Terminator Salvation', 'The Devil Wears Prada', 'The Italian Job', 'Cloud Atlas', \"Ocean's Twelve\", 'Fast & Furious 5', 'The Exorcist', 'Face/Off', 'Moneyball', '2012', 'Back to the Future Part III', 'Sweeney Todd: The Demon Barber of Fleet Street', 'E.T. the Extra-Terrestrial', 'The Machinist', 'The Town', 'Wedding Crashers', '127 Hours', 'Big Hero 6', 'The Lost World: Jurassic Park', 'Fast & Furious 7', 'Unforgiven', 'Dead Poets Society', 'The Cabin in the Woods', 'Easy A', 'The Fighter', \"It's a Wonderful Life\", 'Spectre', 'Scott Pilgrim vs. the World', 'Brave', 'Inside Man', 'Due Date', 'Wreck-It Ralph', 'The Fast and the Furious', 'Life of Brian', 'Yes Man', 'Signs', 'Stand by Me', 'Amadeus', '50/50', 'Up in the Air', 'Men in Black II', 'The Expendables', 'Friends with Benefits', 'Ghostbusters', 'Die Hard 2', 'The Hateful Eight', 'Batman', 'The Others', 'Fantastic Four', 'Men in Black 3', 'Anchorman: The Legend of Ron Burgundy', 'The Godfather Part III', 'Sleepy Hollow', 'Man on Fire', 'Madagascar', '50 First Dates', 'The Mask', 'Boyhood', 'Captain America: Civil War', 'The Theory of Everything', 'Hotel Rwanda', 'The Aviator', 'TRON: Legacy', 'Flight', 'The Island', 'Cars', 'Lucky Number Slevin', 'Equilibrium', 'Speed', 'The Game', 'Aladdin', 'Meet the Parents', 'Moon', 'Brokeback Mountain', 'The Rock', \"The Devil's Advocate\", 'The Lives of Others', 'The Simpsons Movie', 'The Thing', '22 Jump Street', \"Ocean's Thirteen\", 'The Breakfast Club', 'Mission: Impossible III', 'Shooter', 'National Treasure', 'Pineapple Express', 'Real Steel', 'Being John Malkovich', 'Pearl Harbor', 'Maleficent', 'The Wrestler', 'John Wick', 'The Ring', 'The Fault in Our Stars', 'Vertigo', 'Burn After Reading', 'Downfall', 'Lord of War', 'The Mummy Returns', \"There's Something About Mary\", 'The Expendables 2', 'The Interview', 'Click', 'The Lego Movie', 'Mean Girls', 'Salt', 'Hugo', 'Unbreakable', 'Hitch', 'Hellboy', 'Babel', 'Les Misérables', \"Ferris Bueller's Day Off\", 'Jumper', 'Serenity', 'Transformers: Age of Extinction', 'Deja Vu', 'Mission: Impossible II', 'Magnolia', 'True Grit', 'Superman Returns', 'Total Recall', 'Interview with the Vampire: The Vampire Chronicles', 'Jackie Brown', 'RED', 'A.I. Artificial Intelligence', 'Taken 2', '3:10 to Yuma', 'Moonrise Kingdom', 'The Transporter', 'The Secret Life of Walter Mitty', 'Apocalypto', 'Mulholland Drive', 'Constantine', 'Raging Bull', 'Monsters University', 'Night at the Museum', 'Seven Pounds', 'The Deer Hunter', 'Mission: Impossible - Rogue Nation', 'Public Enemies', 'Clash of the Titans', 'Seven Samurai', 'The Equalizer', 'The Bourne Legacy', 'Snow White and the Huntsman', 'The Proposal', 'Eyes Wide Shut', 'The Book of Eli', 'Jack Reacher', 'Con Air', 'Donnie Brasco', '300: Rise of an Empire', 'O Brother, Where Art Thou?', 'As Good as It Gets', 'Moulin Rouge!', 'Green Lantern', 'The Hangover Part III', 'The Blind Side', 'Prince of Persia: The Sands of Time', 'Scream', 'The Nightmare Before Christmas', '10 Things I Hate About You', 'Starship Troopers', 'Princess Mononoke', 'The Twilight Saga: New Moon', 'Once Upon a Time in America', 'How to Train Your Dragon 2', 'Gattaca', 'The Mist', 'Liar Liar', 'North by Northwest', 'Fifty Shades of Grey', 'Jurassic Park III', 'Top Gun', 'The Untouchables', 'From Dusk Till Dawn', 'Insomnia', 'Bridesmaids', 'Gone in Sixty Seconds', 'Crouching Tiger, Hidden Dragon', 'Forgetting Sarah Marshall', 'Law Abiding Citizen', 'Kingdom of Heaven', 'Ace Ventura: Pet Detective', 'Bad Neighbours', 'Zero Dark Thirty', 'Chinatown', 'Once Upon a Time in the West', 'Gone with the Wind', 'Batman Returns', 'To Kill a Mockingbird', 'The Dictator', \"Howl's Moving Castle\", 'Pitch Perfect', 'The Fugitive', 'Pretty Woman', 'Fantastic 4: Rise of the Silver Surfer', 'Fear and Loathing in Las Vegas', 'Step Brothers', 'John Carter', 'Stardust', '28 Weeks Later', 'Hulk', 'Robin Hood', 'Shrek the Third', 'The A-Team', 'Meet the Fockers', \"A Bug's Life\", 'The Graduate', 'School of Rock', 'Unknown', '1408', 'Death Proof', 'The Royal Tenenbaums', 'Apollo 13', 'Hannibal', 'Hellboy II: The Golden Army', 'Underworld', 'Phone Booth', 'Angels & Demons', 'The Patriot', 'Alien³', 'Almost Famous', 'Vanilla Sky', '3 Idiots', 'Jumanji', 'Panic Room', 'The Descendants', 'Chronicle', 'Red Dragon', 'Lone Survivor', 'Dredd', 'Fast & Furious', 'The Grey', 'Notting Hill', 'Olympus Has Fallen', 'Kick-Ass 2', 'Battleship', 'Insidious', 'Total Recall', 'About Time', 'Zoolander', 'Contact', 'Non-Stop', 'Road to Perdition', 'American Pie 2', 'Office Space', 'Noah', 'The Adjustment Bureau', 'Home Alone 2: Lost in New York', 'Changeling', 'GoldenEye', 'Dark Shadows', 'Resident Evil', 'Vicky Cristina Barcelona', 'Blow', 'The Boondock Saints', 'Sucker Punch', 'Lincoln', 'Crank', 'Van Helsing', 'Role Models', 'I Am Number Four', 'RocknRolla', 'Dawn of the Dead', 'Scent of a Woman', 'Pitch Black', 'Ice Age 2: The Meltdown', 'The Village', 'Sicario', 'Pride & Prejudice', 'Gone Baby Gone', 'Atonement', 'Annie Hall', 'Lawrence of Arabia', 'Paul', 'Thank You for Smoking', '2 Fast 2 Furious', 'Spotlight', '21', 'Blade', 'The Fountain', 'Lethal Weapon', 'Batman Forever', 'Perfume: The Story of a Murderer', 'Don Jon', 'True Lies', 'Sunshine', 'The Artist', 'Jerry Maguire', 'The Reader', 'Batman & Robin', '21 Grams', 'The Other Guys', 'Eastern Promises', 'Beetlejuice', 'Boogie Nights', 'Enemy at the Gates', 'The Ides of March', 'Walk the Line', 'Corpse Bride', 'Saw II', 'Enemy of the State', 'Garden State', 'Terminator Genisys', 'Rush Hour', 'Scary Movie', 'The Place Beyond the Pines', 'Disturbia', 'Stranger Than Fiction', 'Knowing', '8 Mile', 'The Blair Witch Project', 'A History of Violence', 'Dances with Wolves', 'Me, Myself & Irene', 'Seven Psychopaths', 'The Twilight Saga: Breaking Dawn - Part 2', 'Old School', \"The World's End\", 'Dodgeball: A True Underdog Story', 'Lawless', 'Paranormal Activity', 'The Bucket List', 'The Twilight Saga: Eclipse', 'Warm Bodies', \"Ender's Game\", 'The Chronicles of Riddick', 'Austin Powers: International Man of Mystery', 'Valkyrie', 'National Treasure: Book of Secrets', 'Rango', 'Before Sunrise', 'RoboCop', 'Hook', 'The Holiday', 'Ghost Rider', 'The Twilight Saga: Breaking Dawn - Part 1', 'Dog Day Afternoon', 'A Few Good Men', 'Kung Fu Panda 2', 'Dogma', 'The Lone Ranger', 'Clerks', 'Grown Ups', 'Austin Powers: The Spy Who Shagged Me', 'Mrs. Doubtfire', 'Snowpiercer', 'Final Destination', 'RoboCop', 'End of Watch', 'Contagion', 'Rambo', 'The Big Short', 'The Passion of the Christ', 'The Fast and the Furious: Tokyo Drift', 'Philadelphia', 'The Goonies', 'Bad Boys II', 'Planet of the Apes', 'Identity', 'Escape Plan', 'The Adventures of Tintin: The Secret of the Unicorn', 'The Road', 'Munich', 'The Tourist', 'Bridge of Spies', 'The Beach', 'Daredevil', 'Kiss Kiss Bang Bang', 'Shakespeare in Love', 'Oz the Great and Powerful', 'The Sting', 'Some Like It Hot', 'The Girl with the Dragon Tattoo', 'Finding Neverland', 'G.I. Joe: The Rise of Cobra', 'Body of Lies', 'The Man from U.N.C.L.E.', 'The Lincoln Lawyer', 'Gangster Squad', 'Amores perros', 'Let the Right One In', 'Natural Born Killers', 'Silent Hill', 'Just Go with It', 'Transcendence', 'Chappie', 'Megamind', 'First Blood', 'Bad Boys', 'Mars Attacks!', 'American Reunion', 'Chicago', 'Cowboys & Aliens', 'My Neighbour Totoro', \"What's Eating Gilbert Grape\", 'Gandhi', \"Bridget Jones's Diary\", 'Mulan', 'Predators', 'The Girl Next Door', 'Anger Management', 'Traffic', 'Alien Resurrection', 'Die Another Day', 'The Little Mermaid', 'Grease', 'The Hunt', 'Meet Joe Black', 'No Strings Attached', 'Closer', 'Before Sunset', 'Master and Commander: The Far Side of the World', 'Get Smart', 'Das Boot', 'Planet Terror', 'P.S. I Love You', 'Ip Man', 'Spy', 'Zootropolis', 'Romeo + Juliet', 'Teenage Mutant Ninja Turtles', 'Safe House', 'Death Race', 'Ice Age: Dawn of the Dinosaurs', 'I Love You, Man', 'Match Point', 'Machete', 'A Good Day to Die Hard', 'The Great Escape', 'Predestination', 'Rio', 'The Number 23', 'The Hunger Games: Mockingjay - Part 2', 'White House Down', 'Hotel Transylvania', 'The Ugly Truth', 'True Romance', 'The Happening', 'Austin Powers in Goldmember', \"Carlito's Way\", 'A Walk to Remember', 'American Pie: The Wedding', 'EuroTrip', 'Rocky Balboa', 'South Park: Bigger, Longer & Uncut', 'The Elephant Man', 'Big Daddy', 'Run Lola Run', 'Napoleon Dynamite', 'Pain & Gain', 'Remember the Titans', 'Bad Teacher', 'Rush Hour 2', 'Cube', 'Ace Ventura: When Nature Calls', 'Airplane!', 'Ben-Hur', 'The Internship', 'Hansel & Gretel: Witch Hunters', 'Hanna', 'What Women Want', 'After Earth', 'Drag Me to Hell', 'Blade II', 'Room', 'Halloween', 'The World Is Not Enough', 'For a Few Dollars More', 'Project X', 'Lara Croft: Tomb Raider', 'Dark City', '2 Guns', 'A Series of Unfortunate Events', 'How to Lose a Guy in 10 Days', \"You Don't Mess with the Zohan\", 'Underworld: Evolution', 'Transporter 2', 'Happy Gilmore', \"The Hitchhiker's Guide to the Galaxy\", 'Swordfish', 'Grindhouse', 'Harold & Kumar Get the Munchies', 'Battle Los Angeles', 'The Descent', 'Sinister', \"Hachi: A Dog's Tale\", 'Sleepers', 'Ghost', 'Insurgent', 'Big', 'Wrath of the Titans', 'Revolutionary Road', 'Cloudy with a Chance of Meatballs', 'The Bank Job', 'Brazil', 'Cinema Paradiso', 'Mad Max', 'Butch Cassidy and the Sundance Kid', \"You've Got Mail\", 'Godzilla', 'A Separation', 'Surrogates', 'Resident Evil: Apocalypse', 'Eagle Eye', 'The Croods', 'Chocolat', 'Sideways', 'The Taking of Pelham 123', 'Blue Jasmine', 'Unstoppable', \"Singin' in the Rain\", 'The Chronicles of Narnia: Prince Caspian', 'Zack and Miri Make a Porno', 'Tomorrow Never Dies', '25th Hour', 'Hero', 'Resident Evil: Extinction', 'The Bridge on the River Kwai', 'Cruel Intentions', 'A Nightmare on Elm Street', 'The Golden Compass', 'When Harry Met Sally', 'Stargate', 'Tinker Tailor Soldier Spy', 'K-PAX', 'Focus', 'Side Effects', 'Cinderella Man', 'Knight and Day', 'The Sound of Music', 'The Raid', 'Mr. Nobody', 'Elf', 'This Means War', 'Secret Window', 'Get Him to the Greek', 'A Fistful of Dollars', 'San Andreas', '17 Again', 'Bolt', 'G.I. Joe: Retaliation', 'The Next Three Days', 'Southpaw', 'Air Force One', 'Mamma Mia!', 'Madagascar: Escape 2 Africa', 'The Vow', 'The Last King of Scotland', 'Ronin', \"Charlie's Angels\", 'Creed', 'Robin Hood: Prince of Thieves', 'Shame', 'The Impossible', 'Ice Age: Continental Drift', 'Waterworld', 'Twister', 'About a Boy', 'Tarzan', \"Bram Stoker's Dracula\", 'The Hunt for Red October', 'AVP: Alien vs. Predator', 'Jarhead', 'Love & Other Drugs', 'Adaptation.', 'High Fidelity', 'Coraline', 'Modern Times', 'X-Men: Apocalypse', 'Pi', 'xXx', 'Beowulf', 'Ed Wood', 'Hercules', 'Enchanted', 'The Blues Brothers', 'Saw III', 'The English Patient', 'Gremlins', 'The League of Extraordinary Gentlemen', 'Dirty Dancing', 'Minions', 'How the Grinch Stole Christmas', 'Orphan', 'Blue Valentine', 'Percy Jackson & the Lightning Thief', 'The Evil Dead', 'Hitman', 'What Happens in Vegas', 'Chicken Run', 'Who Framed Roger Rabbit', \"Rosemary's Baby\", 'The Woman in Black', 'Sunset Blvd.', 'The Life Aquatic with Steve Zissou', 'Goldfinger', 'The Day the Earth Stood Still', 'Ghostbusters II', 'Jupiter Ascending', 'Hot Tub Time Machine', 'Close Encounters of the Third Kind', 'Fracture', 'Fantastic Mr. Fox', 'The Thin Red Line', 'Alexander', 'Hostel', 'Chef', 'Desperado', 'Battle Royale', 'Shrek Forever After', '30 Days of Night', 'Dracula Untold', 'The Purge', 'Immortals', 'The Darjeeling Limited', 'Grave of the Fireflies', 'Three Kings', 'The Ninth Gate', 'The Talented Mr. Ripley', 'Rocky II', 'The Great Dictator', 'Miss Congeniality', 'Maze Runner: The Scorch Trials', \"A Knight's Tale\", 'Need for Speed', 'The Judge', 'The Change-Up', 'Milk', 'Spaceballs', 'The Crow', 'King Arthur', 'The Tree of Life', 'Planet of the Apes', 'Team America: World Police', 'The Assassination of Jesse James by the Coward Robert Ford', 'The Green Hornet', 'A Million Ways to Die in the West', 'Deep Impact', 'The Mask of Zorro', 'Falling Down', 'Erin Brockovich', 'Mud', 'Rocky IV', 'Mama', 'Rushmore', 'Layer Cake', 'Mad Max 2', 'Basic Instinct', 'Everest', 'The Insider', 'Michael Clayton', 'Misery', 'Snow White and the Seven Dwarfs', 'The Perfect Storm', 'Taken 3', 'Road Trip', 'The Heat', 'Blade: Trinity', 'The Ghost', 'Happy Feet', 'Shark Tale', 'Blue Velvet', 'Letters from Iwo Jima', 'The Boy in the Striped Pyjamas', \"He's Just Not That Into You\", 'Hard Candy', 'Legally Blonde', 'Primal Fear', 'The Secret in Their Eyes', '[Rec]', 'Resident Evil: Afterlife', 'The Abyss', 'Anchorman 2: The Legend Continues', 'Adventureland', 'Talladega Nights: The Ballad of Ricky Bobby', 'Once Upon a Time in Mexico', 'Night at the Museum 2', \"Shoot 'Em Up\", 'The Longest Yard', 'Blades of Glory', 'The Hills Have Eyes', 'Wild Wild West', 'The Man from Earth', 'The Intern', 'Army of Darkness', 'Abraham Lincoln: Vampire Hunter', 'The Birds', 'Melancholia', 'Jay and Silent Bob Strike Back', 'Exodus: Gods and Kings', 'The Iron Giant', 'Willy Wonka & the Chocolate Factory', \"The Emperor's New Groove\", 'Lethal Weapon 3', 'Definitely, Maybe', 'Tomorrowland: A World Beyond', 'Tucker and Dale vs Evil', 'Vantage Point', 'Date Night', 'Lethal Weapon 4', 'Lethal Weapon 2', 'Cape Fear', 'Over the Hedge', 'The Expendables 3', 'Flightplan', 'The Karate Kid', 'The Imaginarium of Doctor Parnassus', 'Beverly Hills Cop', 'Superman', 'Transporter 3', 'Carrie', 'Girl, Interrupted', 'Man on a Ledge', 'The Man in the Iron Mask', 'Riddick', 'The Lovely Bones', 'Next', 'Scream 2', 'RED 2', 'Evil Dead', 'From Hell', 'Antz', '27 Dresses', 'Demolition Man', 'The Punisher', \"The Sorcerer's Apprentice\", 'Invictus', 'Analyze This', 'Galaxy Quest', 'Rise of the Guardians', 'Rocky III', 'The Jungle Book', 'Clueless', 'Mr. Brooks', \"Breakfast at Tiffany's\", 'Sleepless in Seattle', 'The Cable Guy', '13 Going on 30', '10 Cloverfield Lane', 'I Am Sam', 'Rounders', 'Pandorum', 'Spy Game', \"Smokin' Aces\", 'Rush Hour 3', 'Starsky & Hutch', 'Paths of Glory', 'The Polar Express', 'Final Destination 2', 'Event Horizon', 'The Orphanage', 'The Bone Collector', 'Coming to America', 'Cool Hand Luke', 'Underworld: Rise of the Lycans', 'S.W.A.T.', 'Dazed and Confused', 'The Karate Kid', 'Brüno', 'I Now Pronounce You Chuck & Larry', 'Scary Movie 2', 'Pocahontas', 'The Waterboy', 'Memoirs of a Geisha', 'Wall Street', \"Madagascar 3: Europe's Most Wanted\", 'Mary and Max', 'The Last Airbender', 'Buried', 'Cold Mountain', 'The Fly', 'Straight Outta Compton', 'Green Street', 'The Mummy: Tomb of the Dragon Emperor', 'The Mechanic', 'Saving Mr. Banks', 'Rambo: First Blood Part II', 'Underworld: Awakening', 'Lilo & Stitch', '47 Ronin', 'The Virgin Suicides', 'Ted 2', \"She's the Man\", \"Dude, Where's My Car?\", 'Marley & Me', 'Dr. No', 'Defiance', 'War Horse', 'Snakes on a Plane', 'The Way Way Back', 'Hercules', 'Evan Almighty', 'The Grudge', \"The Time Traveler's Wife\", 'Clerks II', 'Lars and the Real Girl', 'The Naked Gun: From the Files of Police Squad!', 'Johnny English', \"Wayne's World\", 'Good Bye Lenin!', 'Monsters vs. Aliens', 'The Lake House', 'Puss in Boots', 'The Last Stand', 'Chasing Amy', 'Dirty Harry', 'Black Mass', 'Harold & Kumar Escape from Guantanamo Bay', 'Remember Me', 'Horrible Bosses 2', 'The Third Man', 'Gamer', 'JFK', 'State of Play', 'Evil Dead II', 'The Recruit', 'Conan the Barbarian', 'The Maltese Falcon', 'The Last of the Mohicans', 'Point Break', '16 Blocks', 'Young Frankenstein', '101 Dalmatians', 'The Running Man', 'The Babadook', 'Crank 2: High Voltage', 'An Education', 'Legends of the Fall', 'Space Jam', 'It Follows', 'The Seventh Seal', 'Metropolis', \"Winter's Bone\", 'Killing Them Softly', 'Scary Movie 3', 'Payback', 'Commando', 'The Constant Gardener', '9', 'Saw IV', 'We Bought a Zoo', 'Fun with Dick and Jane', 'Æon Flux', 'The Kids Are All Right', 'Sin City: A Dame to Kill For', 'Mr. Deeds', 'Ray', 'Bridge to Terabithia', 'Green Zone', 'Tower Heist', 'Four Brothers', 'Never Let Me Go', 'Punch-Drunk Love', 'Fantastic Four', 'The Wedding Singer', 'The Men Who Stare at Goats', 'In the Name of the Father', 'Shallow Hal', 'Syriana', 'The Apartment', '10,000 BC', 'Insidious: Chapter 2', 'Magic Mike', 'Spring Breakers', 'The Texas Chainsaw Massacre', 'A Fish Called Wanda', 'Carrie', 'Eragon', 'City Lights', 'Idiocracy', 'Four Weddings and a Funeral', 'Max Payne', 'Reign of Fire', 'Kindergarten Cop', 'Bad Santa', 'Grown Ups 2', 'About Schmidt', 'Dogville', 'Mary Poppins', 'The Negotiator', 'The Mortal Instruments: City of Bones', 'Along Came Polly', 'The Campaign', 'Honey, I Shrunk the Kids', 'Last Vegas', \"Let's Be Cops\", 'Last Action Hero', 'Foxcatcher', 'Jack the Giant Slayer', 'Horton Hears a Who!', 'Dial M for Murder', 'The Chronicles of Narnia: The Voyage of the Dawn Treader', 'Akira', \"It's Kind of a Funny Story\", \"National Lampoon's Christmas Vacation\", 'Matchstick Men', 'One Day', 'The Drop', 'Daybreakers', 'Bee Movie', 'Killer Elite', 'Monster', 'I Know What You Did Last Summer', 'Accepted', 'Poltergeist', 'Predator 2', 'The Spectacular Now', 'Billy Madison', 'This Is Spinal Tap', 'The Master', 'A Christmas Story', 'The Count of Monte Cristo', 'Resident Evil: Retribution', '8MM', 'Savages', 'Manhattan', 'The Other Woman', 'Cinderella', 'Dear John', 'Scream 4', 'Devil', 'The Watch', 'This Is 40', \"Miller's Crossing\", 'The Time Machine', 'Pleasantville', 'Warcraft: The Beginning', 'Cinderella', 'Network', 'La Haine', 'Hall Pass', 'Unbroken', 'We Were Soldiers', 'Robots', 'Trading Places', 'The Hunchback of Notre Dame', 'J. Edgar', 'Final Destination 3', 'Lara Croft Tomb Raider: The Cradle of Life', 'The Rocky Horror Picture Show', 'Rashomon', 'Evolution', 'Australia', 'The Break-Up', 'The Hours', 'The Monuments Men', 'A Serious Man', 'Contraband', 'The Scorpion King', 'My Big Fat Greek Wedding', 'Glory', 'The Score', 'Hollow Man', \"She's Out of My League\", 'Mad Max Beyond Thunderdome', 'The 13th Warrior', 'The Kingdom', 'The Skin I Live In', 'Barry Lyndon', 'Safety Not Guaranteed', 'Flags of Our Fathers', 'Thelma & Louise', 'Into the Woods', 'Cars 2', 'Funny People', \"Charlie's Angels: Full Throttle\", 'Man on the Moon', 'On the Waterfront', 'Raising Arizona', 'Roman Holiday', 'Capote', 'Sleeping Beauty', 'The 6th Day', 'Wild Hogs', 'The NeverEnding Story', 'A Time to Kill', 'Kung Fu Hustle', 'Doubt', 'Sex and the City', 'This Is England', 'Laputa: Castle in the Sky', 'Begin Again', 'Mallrats', 'Deep Blue Sea', 'M', 'Jack Ryan: Shadow Recruit', 'Ransom', 'John Q', 'White Chicks', 'Hairspray', 'The Book Thief', 'Highlander', 'Scream 3', 'The Brothers Grimm', 'What Lies Beneath', 'Billy Elliot', 'Good Morning, Vietnam', 'The Curse of the Were-Rabbit', \"My Best Friend's Wedding\", 'Lost Highway', 'One Hour Photo', 'Spartacus', 'A Bronx Tale', 'From Paris with Love', 'Kramer vs. Kramer', 'Star Trek: First Contact', 'Double Indemnity', 'Identity Thief', 'Pitch Perfect 2', 'Dune', 'Any Given Sunday', 'Priest', 'Papillon', 'Dumb and Dumber To', 'The Phantom of the Opera', 'Shanghai Noon', 'Freaky Friday', 'The Addams Family', 'The Exorcism of Emily Rose', 'The Bounty Hunter', 'The Jungle Book', 'Carnage', 'Seven Years in Tibet', 'The Texas Chain Saw Massacre', 'Strangers on a Train', 'Ghost World', 'Nausicaä of the Valley of the Wind', 'Alice in Wonderland', 'Cliffhanger', 'Inside Llewyn Davis', 'Pay It Forward', 'Rope', \"Valentine's Day\", 'Water for Elephants', 'Life as We Know It', 'We Need to Talk About Kevin', 'Premium Rush', 'Blazing Saddles', 'The Thing', 'Tombstone', 'Before Midnight', 'Labyrinth', 'Street Kings', 'Babe', 'City of Angels', 'House of Wax', 'Bicycle Thieves', 'The Invention of Lying', 'TRON', 'Red Eye', 'Bambi', 'Stuart Little', 'Boyz n the Hood', 'Leaving Las Vegas', 'Enemy', 'Hostage', 'The Princess Diaries', 'Scary Movie 4', 'Trainwreck', 'Tears of the Sun', 'Rat Race', 'The Crazies', 'The Age of Adaline', 'Miami Vice', 'The Jacket', 'The Lost Boys', 'Little Children', 'AVPR: Aliens vs Predator - Requiem', \"Jennifer's Body\", 'Steve Jobs', 'Trance', 'Awakenings', 'Coach Carter', 'Margin Call', 'The Host', 'Rocky V', 'Big Trouble in Little China', 'House of Flying Daggers', 'Let Me In', 'Blue Is the Warmest Colour', 'The Faculty', 'Rambo III', 'The Strangers', 'Across the Universe', 'Infernal Affairs', 'R.I.P.D.', 'Y tu mamá también', 'The Purge: Anarchy', 'Outbreak', 'Red Riding Hood', 'Star Trek II: The Wrath of Khan', \"Something's Gotta Give\", 'The Prince of Egypt', 'Nebraska', 'The Boat That Rocked', 'Push', 'Robin Hood: Men in Tights', 'Step Up', 'Escape from New York', 'Wild Things', 'Once', 'Locke', 'Coyote Ugly', 'The Whole Nine Yards', 'Pinocchio', \"National Lampoon's Animal House\", 'Planes, Trains & Automobiles', 'Parker', 'Tremors', 'The Diving Bell and the Butterfly', 'The Bodyguard', 'Paycheck', 'Empire of the Sun', 'Dawn of the Dead', 'Epic Movie', 'Bend It Like Beckham', 'Death at a Funeral', 'Gothika', 'Johnny English Reborn', 'End of Days', 'The Wolfman', 'Men of Honour', 'A Scanner Darkly', 'From Russia with Love', 'The Princess and the Frog', 'Pixels', 'Van Wilder: Party Liaison', 'Freddy vs. Jason', 'Wild Tales', 'The Firm', 'Frost/Nixon', 'The Fall', 'Running Scared', \"Mr. Bean's Holiday\", 'The Three Musketeers', 'Meet the Spartans', 'Saw V', 'Barton Fink', \"Charlie Wilson's War\", 'The Jackal', 'The Life of David Gale', 'Judge Dredd', 'The Call', 'Antichrist', 'Doom', 'Entrapment', 'The Forbidden Kingdom', 'Halloween', 'Brothers', 'The Family', 'Alpha Dog', 'Night of the Living Dead', 'A Walk Among the Tombstones', 'Repo Men', 'Bicentennial Man', 'Where the Wild Things Are', 'Police Academy', 'Matilda', 'Ghost Rider: Spirit of Vengeance', 'The Butler', 'Peter Pan', 'Wrong Turn', 'Twins', 'Catwoman', 'The Skeleton Key', 'The Mexican', 'August Rush', 'Rebecca', 'Irreversible', 'Seeking a Friend for the End of the World', 'The Way Back', 'Escape from Alcatraz', 'Blended', 'The Good Shepherd', 'Behind Enemy Lines', 'Precious', 'Jeepers Creepers', 'Legend', 'Field of Dreams', 'The Parent Trap', 'The Rum Diary', 'Percy Jackson: Sea of Monsters', 'The Nutty Professor', 'The Sum of All Fears', 'The Manchurian Candidate', 'Dan in Real Life', 'Wild', 'Hannibal Rising', 'Talk to Her', 'The Meaning of Life', 'Get the Gringo', 'Anastasia', 'The Interpreter', 'Mirrors', 'The Giver', \"The Man Who Wasn't There\", 'The Family Man', 'Dumbo', 'Epic', 'Casper', 'The X Files', 'Still Alice', 'Two Weeks Notice', 'Tenacious D in the Pick of Destiny', 'Little Fockers', 'Ponyo', 'Serendipity', 'Oculus', \"Bill & Ted's Excellent Adventure\", 'The Queen', 'Get Hard', 'Your Highness', 'Unleashed', 'Journey to the Center of the Earth', 'Brick', 'Fright Night', 'Flushed Away', 'PK', 'Beverly Hills Cop II', 'Lady and the Tramp', 'Under the Skin', 'Rescue Dawn', 'Bronson', 'Stoker', 'Pompeii', 'Eraser', 'The Other Boleyn Girl', 'Like Stars on Earth', 'The Raid 2', 'Spy Kids', 'Sex Tape', 'Robin Hood', 'Paul Blart: Mall Cop', 'The Ladykillers', 'Good Night, and Good Luck.', 'Wall Street: Money Never Sleeps', 'Reign Over Me', 'Sweet Home Alabama', 'Final Destination 5', 'What Dreams May Come', 'Couples Retreat', 'If I Stay', 'United 93', 'The Naked Gun 2½: The Smell of Fear', 'A Single Man', 'Only God Forgives', 'The Motorcycle Diaries', 'Safe', 'Out of the Furnace', 'All About Eve', 'Just Like Heaven', 'My Cousin Vinny', 'Homefront', 'Welcome to the Jungle', 'Friday the 13th', 'Conan the Barbarian', 'Maverick', 'Poseidon', 'The French Connection', 'Attack the Block', 'The Full Monty', 'The Iron Lady', 'Just Friends', 'Paranormal Activity 2', 'Lockout', 'Thunderball', \"Before the Devil Knows You're Dead\", 'Bedazzled', 'Drive Angry', 'Frequency', 'Nymphomaniac: Vol. I', 'Mortal Kombat', 'The Name of the Rose', 'The Danish Girl', 'Elite Squad', 'Sphere', 'Caddyshack', 'Babylon A.D.', 'Crimson Peak', 'Broken Flowers', 'Patriot Games', 'Shanghai Knights', 'Annabelle', 'Music and Lyrics', 'Extremely Loud & Incredibly Close', 'Willow', 'Crimson Tide', 'The Omen', 'Legion', 'The Amityville Horror', 'The Counsellor', 'The Dreamers', 'Little Nicky', 'A Dangerous Method', 'Faster', 'Patch Adams', 'The Wave', 'Never Back Down', 'The Basketball Diaries', 'Dinner for Schmucks', 'Not Another Teen Movie', 'The International', 'Incendies', 'Hereafter', 'High Noon', 'Be Kind Rewind', 'The Cell', 'Marie Antoinette', 'Iron Sky', 'Bonnie and Clyde', 'The American', 'Splice', 'Headhunters', 'Dancer in the Dark', 'Julie & Julia', 'Ghost in the Shell', 'The Cider House Rules', 'Serpico', 'Cellular', 'Ali', 'The Treasure of the Sierra Madre', 'Movie 43', 'Bride Wars', 'The Gift', 'The Five-Year Engagement', 'Death Becomes Her', 'Vacancy', 'Land of the Dead', 'Hot Shots!', 'Ruby Sparks', 'Lady in the Water', \"Federico Fellini's 8½\", 'Deliverance', 'A Streetcar Named Desire', 'DragonHeart', 'Sense and Sensibility', 'A Prophet', 'Das Experiment', 'The X Files: I Want to Believe', 'Four Rooms', 'The Lorax', '30 Minutes or Less', 'The Switch', 'Safe Haven', 'U.S. Marshals', 'Bad Grandpa', 'The One', 'Sahara', 'Ran', 'The Painted Veil', 'Enter The Dragon', \"Boys Don't Cry\", 'eXistenZ', 'Small Soldiers', 'Broken Arrow', 'Braindead', 'Tootsie', 'Mr. Smith Goes to Washington', 'I Love You Phillip Morris', 'The Core', 'Paranormal Activity 3', 'Born on the Fourth of July', 'Year One', 'Naked Gun 33 1/3: The Final Insult', 'Runaway Jury', 'The Lucky One', 'Volver', 'That Awkward Moment', 'Midnight Cowboy', 'The Walk', 'Intolerable Cruelty', 'Jobs', 'Waiting', 'Colombiana', 'The Spy Who Loved Me', 'Me and Earl and the Dying Girl', 'Patton', 'The Box', 'Season of the Witch', 'Hellraiser', \"The Devil's Rejects\", 'Skyline', 'Superman II', 'Super Troopers', 'Saw VI', 'Conspiracy Theory', 'The Hurricane', 'Elizabeth', 'Philomena', \"Kiki's Delivery Service\", \"Jacob's Ladder\", 'The Rite', 'Ghost Ship', 'The Last Boy Scout', 'Run All Night', 'Monsters', 'Glengarry Glen Ross', 'Bean', 'Ride Along', 'In the Mood for Love', 'Dreamcatcher', 'Cop Out', 'Tango & Cash', 'A Nightmare on Elm Street', 'The Best Exotic Marigold Hotel', 'I Origins', 'The Guardian', 'Home Alone 3', 'The Final Destination', 'You Only Live Twice', 'The Muppets', 'Edge of Darkness', 'Cheaper by the Dozen', 'Friday the 13th', 'Disaster Movie', 'Live and Let Die', \"Nick and Norah's Infinite Playlist\", 'Our Idiot Brother', 'Easy Rider', 'Crocodile Dundee', 'The Losers', 'The Hot Chick', 'Good Luck Chuck', 'The Conversation', 'Letters to Juliet', 'Friday', 'Harry Brown', \"My Sister's Keeper\", 'Joy', 'Octopussy', 'Doctor Dolittle', 'Bridget Jones: The Edge of Reason', 'Runaway Bride', 'Diamonds Are Forever', 'Here Comes the Boom', 'Revolver', '101 Dalmatians', 'In the Line of Fire', 'Licence to Kill', 'Yojimbo', 'The Man with the Golden Gun', 'Sixteen Candles', 'Frankenweenie', 'Notorious', 'The Lobster', \"All the President's Men\", 'Election', 'The Girl Who Played with Fire', 'Anaconda', 'Righteous Kill', 'Grosse Pointe Blank', 'They Live', 'Beginners', 'Dead Man Walking', 'The Thomas Crown Affair', 'Filth', 'Finding Forrester', 'Sky Captain and the World of Tomorrow', 'The Raven', 'Touch of Evil', 'Killers', 'A Christmas Carol', 'We Own the Night', 'Sex Drive', 'War', 'Haywire', 'Cashback', 'Piranha 3D', 'St. Vincent', 'Primer', 'Atlantis: The Lost Empire', 'Sling Blade', 'Bedtime Stories', 'Final Fantasy: The Spirits Within', 'The People vs. Larry Flynt', 'Driving Miss Daisy', 'ParaNorman', 'Brooklyn', 'The Warriors', 'Dead Man', 'For Your Eyes Only', 'West Side Story', 'WarGames', 'The Heartbreak Kid', 'Out of Sight', 'Unthinkable', 'A League of Their Own', 'My Week with Marilyn', 'Confessions of a Dangerous Mind', \"Monster's Ball\", 'The Legend of Zorro', 'Treasure Planet', 'While You Were Sleeping', 'Scooby-Doo', 'Fantasia', 'Another Earth', 'Leap Year', 'Elektra', 'Fast Times at Ridgemont High', 'The Ring 2', 'Lagaan: Once Upon a Time in India', \"National Lampoon's Vacation\", 'Monster House', 'Half Nelson', 'In the Heart of the Sea', 'I Saw the Devil', 'Anna Karenina', 'Elephant', 'Mirror Mirror', 'The New World', 'A Good Year', \"That's My Boy\", 'Ultraviolet', 'Beasts of the Southern Wild', 'Amour', 'Sweet November', 'The Last Emperor', 'Brother Bear', 'Hide and Seek', 'Persepolis', 'The 400 Blows', 'Bring It On', 'Ghost Dog: The Way of the Samurai', 'Goon', 'Arlington Road', 'Hostel: Part II', 'Ip Man 2', \"It's Complicated\", 'Color It Yellow', 'Teenage Mutant Hero Turtles', 'Exam', 'Home', 'Eraserhead', 'Cool Runnings', 'Clear and Present Danger', 'Cop Land', 'Funny Games', 'Deception', 'Moonraker', 'My Name Is Khan', 'The Living Daylights', 'Analyze That', '3 Days to Kill', 'All About My Mother', 'The Weather Man', 'The Quick and the Dead', 'Ali G Indahouse', 'The Spiderwick Chronicles', 'Universal Soldier', 'Biutiful', 'The Host', 'Around the World in 80 Days', 'A View to a Kill', 'You, Me and Dupree', 'Jingle All The Way', 'Maid in Manhattan', 'The Frighteners', 'Stalker', 'Gremlins 2: The New Batch', 'Thirteen', 'Nosferatu', 'The Kite Runner', 'The Doors', 'Blitz', 'Never been Kissed', 'Take Shelter', 'Secretary', 'Saw 3D', \"Grandma's Boy\", 'Hidalgo', 'To Rome with Love', 'The Last House on the Left', 'Mean Streets', 'Beautiful Creatures', 'Crazy Heart', 'The Gold Rush', 'August: Osage County', 'Lolita', 'Step Up 2: The Streets', 'Wag the Dog', 'Zathura: A Space Adventure', 'Solaris', 'World Trade Center', 'The Bling Ring', 'Ghosts of Girlfriends Past', 'John Tucker Must Die', 'Blood Simple', 'Journey 2: The Mysterious Island', 'What We Do in the Shadows', \"Mr. Popper's Penguins\", \"She's All That\", 'Hot Shots! Part Deux', 'The Kid', 'Night at the Museum: Secret of the Tomb', 'Semi-Pro', 'Witness', 'My Fair Lady', \"Big Momma's House\", 'Scoop', 'Meet the Robinsons', 'Memories of Murder', \"New Year's Eve\", 'The Smurfs', 'London Has Fallen', 'Elite Squad 2: The Enemy Within', '42', 'Love, Rosie', 'The Dukes of Hazzard', 'The Pacifier', 'Say Anything...', 'Delicatessen', 'Assault on Precinct 13', 'Felon', 'The Celebration', 'Dead Silence', 'Malena', \"Legend of the Guardians: The Owls of Ga'Hoole\", 'Submarine', 'Following', 'I, Frankenstein', 'Spanglish', '88 Minutes', 'Mississippi Burning', 'Nacho Libre', 'La Vie en Rose', 'Thir13en Ghosts', 'The Hudsucker Proxy', 'Battlefield Earth', 'The Pink Panther', 'Vacation', 'Taking Lives', 'U-571', 'Gosford Park', 'Open Season', 'The Invasion', 'Abduction', 'The Sword in the Stone', 'Bad Lieutenant: Port of Call New Orleans', 'Sister Act', 'It Happened One Night', 'Centurion', 'The Magnificent Seven', 'The Night of the Hunter', 'The Guard', 'Young Adult', 'The Santa Clause', 'Snitch', 'Notes on a Scandal', 'Youth in Revolt', 'Kate & Leopold', 'The Sea Inside', 'A Perfect Murder', 'The Visit', 'An American Werewolf in London', 'King Kong', 'The Day the Earth Stood Still', 'Cloudy with a Chance of Meatballs 2', 'The AristoCats', 'Triangle', 'Snake Eyes', 'October Sky', 'Beastly', 'Romancing the Stone', 'The Witch', 'Three Colours: Red', 'Swingers', 'Outlander', 'The House Bunny', 'The Piano', 'Malcolm X', 'The Big Sleep', 'Phenomenon', 'American Graffiti', 'The Inbetweeners Movie', 'Chicken Little', 'Pet Sematary', 'The Straight Story', 'Stuck in Love.', 'The Mothman Prophecies', 'Into the Blue', 'Broken City', 'Flubber', 'Eat Pray Love', 'Kingpin', \"Look Who's Talking\", 'The Black Dahlia', 'The Fox and the Hound', 'Rebel Without a Cause', 'The Fisher King', 'Awake', 'Uncle Buck', 'The Wild Bunch', 'The Fourth Kind', 'Jane Eyre', \"Paris, je t'aime\", 'RoboCop 2', 'Star Trek: The Motion Picture', 'The Grapes of Wrath', 'Confessions of a Shopaholic', 'Unfaithful', 'Wild Strawberries', 'Angel Heart', 'Witness for the Prosecution', 'Get Shorty', 'Assassins', \"Trick 'r Treat\", 'The Guest', 'The Hustler', 'The Conjuring 2', 'Doomsday', 'Tommy Boy', 'A Cinderella Story', 'Paper Towns', 'A Very Long Engagement', 'Derailed', \"Wayne's World 2\", 'Red Dawn', 'Spring, Summer, Fall, Winter... And Spring', 'Fearless', 'Stir of Echoes', 'The Last Song', 'Premonition', 'Kung Fu Panda 3', 'The Birdcage', 'Baahubali: The Beginning', 'The Killing', 'Cabin Fever', 'Turbo', '40 Days and 40 Nights', \"Dante's Peak\", 'Wanderlust', 'Three Colors: Blue', 'Hitman: Agent 47', 'Flatliners', \"Child's Play\", 'Conan the Destroyer', 'Rock of Ages', 'The Tuxedo', 'The Searchers', 'Slither', 'The Duchess', 'The Good Dinosaur', 'Inherent Vice', 'Super', 'The Land Before Time', 'Burlesque', 'Frida', 'Taxi', 'The Science of Sleep', 'Persona', 'Mona Lisa Smile', 'Collateral Damage', 'Star Trek IV: The Voyage Home', 'Scrooged', 'Wild at Heart', 'Sky High', 'How to Lose Friends & Alienate People', 'The Wedding Planner', 'The Uninvited', 'The Manchurian Candidate', 'Sunshine Cleaning', 'The Animatrix', \"You're Next\", 'Species', 'Under Siege', 'The Color Purple', 'Selma', 'Six Days Seven Nights', 'The Flintstones', 'Disconnect', 'Ong-Bak: The Thai Warrior', 'Only Lovers Left Alive', 'The Kings of Summer', 'House of 1000 Corpses', 'The Incredible Burt Wonderstone', 'Risky Business', 'Blue Streak', 'Speed 2: Cruise Control', 'Ghost Town', 'Burnt', 'The Long Kiss Goodnight', 'Cocktail', 'Case 39', 'Mission to Mars', 'Hocus Pocus', 'Hitchcock', 'Days of Thunder', 'Videodrome', 'Carol', 'Flipped', 'Star Trek: Generations', 'G.I. Jane', '21 & Over', 'Jack and Jill', 'The Squid and the Whale', 'Stay', 'Beverly Hills Cop III', 'God Bless America', 'Inkheart', 'The Sitter', 'Death Sentence', 'Girl with a Pearl Earring', 'Space Cowboys', 'Ghostbusters', 'In the Valley of Elah', 'Penguins of Madagascar', 'The Ruins', 'Heathers', 'Frailty', 'Weird Science', \"On Her Majesty's Secret Service\", 'Hot Rod', 'Pink Floyd: The Wall', 'Delivery Man', 'The Words', 'Sex and the City 2', 'The Pelican Brief', 'All Is Lost', 'Black Book', 'Go', 'Do the Right Thing', 'Be Cool', 'Blindness', 'Martyrs', 'Deuce Bigalow: Male Gigolo', \"Fool's Gold\", 'Killer Joe', 'Along Came a Spider', 'Machete Kills', 'Solomon Kane', 'Entourage', 'No Reservations', 'Kids', 'Whatever Works', \"What's Your Number?\", 'Hail, Caesar!', 'Morning Glory', 'Garfield', 'The SpongeBob SquarePants Movie', 'Nymphomaniac: Vol. II', 'Bewitched', 'Elizabethtown', 'Star Trek III: The Search for Spock', 'Run Fatboy Run', \"White Men Can't Jump\", 'Shaft', 'Lost in Space', 'The African Queen', 'Failure to Launch', 'Rio 2', 'Fallen', 'House at the End of the Street', 'Ninja Assassin', 'Upside Down', 'Star Trek: Nemesis', 'A Lot Like Love', 'Backdraft', 'The Station Agent', 'Volcano', 'The Haunting', 'Holes', 'The Road to El Dorado', 'The Last Witch Hunter', 'Domino', 'The Siege', 'Act of Valour', 'The Sandlot Kids', 'EverAfter', 'Speed Racer', 'The Color of Money', 'Seabiscuit', 'Eden Lake', 'A Perfect World', 'The Forgotten', 'Bloodsport', 'Just Married', 'Clue', 'Swades: We, the People', 'Quarantine', 'The Human Centipede (First Sequence)', 'The Outsiders', 'Dark Skies', 'Changing Lanes', 'Self/less', \"What to Expect When You're Expecting\", 'Alvin and the Chipmunks', 'Addams Family Values', 'Project Almanac', 'A Most Wanted Man', 'The Craft', 'The Last Castle', 'Bandits', 'Romeo Must Die', 'Detachment', 'Bowfinger', 'Shaolin Soccer', 'I Heart Huckabees', 'Mysterious Skin', 'House of Sand and Fog', 'Charlie Bartlett', 'Harold and Maude', 'Star Trek: Insurrection', 'Double Jeopardy', 'Amistad', 'Dragonball: Evolution', 'The Postman', 'A Perfect Getaway', 'I Spit on Your Grave', \"Who's Afraid of Virginia Woolf?\", 'Johnny Mnemonic', 'The Texas Chainsaw Massacre: The Beginning', 'Chloe', 'George of the Jungle', 'Jeff, Who Lives at Home', 'Dope', 'Windtalkers', 'District B13', 'Joan of Arc', 'Wolf Creek', 'Four Lions', 'Dreamgirls', 'The Edge', 'My Girl', 'Doctor Zhivago', 'Hotel Transylvania 2', 'Practical Magic', 'Synecdoche, New York', 'Whip It', 'Walk Hard: The Dewey Cox Story', 'The City of Lost Children', 'M.A.S.H.', 'Love Me If You Dare', '[Rec]²', 'Twin Peaks: Fire Walk with Me', 'The Debt', 'The Iceman', 'The Great Beauty', 'I Still Know What You Did Last Summer', 'Star Trek VI: The Undiscovered Country', 'First Knight', 'Happiness', 'Big Eyes', 'Audition', 'Father of the Bride', 'Fatal Attraction', 'Switchblade Romance', 'A Very Harold & Kumar 3D Christmas', 'Nikita', 'Pretty in Pink', 'Horns', 'Elizabeth: The Golden Age', 'Beerfest', 'Wonder Boys', 'Splash', 'Hackers', 'The 5th Wave', 'The Bridges of Madison County', 'Dead Snow', 'Harsh Times', 'Short Term 12', 'Arsenic and Old Lace', 'Bottle Rocket', 'Made of Honour', 'Stigmata', 'Seventh Son', 'Deliver Us from Evil', 'Jersey Girl', 'Mercury Rising', 'Gunday', 'Strange Days', 'Peter Pan', 'Dead Man Down', 'This Is Where I Leave You', 'Open Range', 'Into the Storm', \"Surf's Up\", 'Troll Hunter', 'Midnight Run', \"The Devil's Double\", 'Mystery Men', 'Solaris', 'Escape from L.A.', 'My Super Ex-Girlfriend', 'The Spirit', 'TMNT', 'Midnight Express', 'Fruitvale Station', 'Insidious: Chapter 3', 'The Man Who Shot Liberty Valance', 'Coherence', 'American Ultra', 'The Princess Diaries 2', 'The Eagle', 'Junior', 'The Man with the Iron Fists', 'Hidden (Caché)', 'Saturday Night Fever', 'The General', 'Lady Vengeance', '¡Three Amigos!', 'Quiz Show', 'Frank', 'Joy Ride', 'Barfi!', 'Red State', \"Daddy's Home\", 'The Boondock Saints II: All Saints Day', 'The Water Diviner', 'Arrietty', 'The Wedding Ringer', \"Gulliver's Travels\", 'The Wicker Man', 'Kiss of the Dragon', 'Street Fighter', 'Daylight', 'Pride and Glory', 'Timeline', 'Bringing Out the Dead', 'Walking Tall', '48 Hrs.', 'Machine Gun Preacher', 'Norbit', 'The White Ribbon', 'City of Ember', \"Brooklyn's Finest\", 'The Informant!', 'Dangerous Liaisons', 'Sliding Doors', 'Spawn', 'The Dirty Dozen', 'The Hundred-Foot Journey', 'Open Your Eyes', 'Chernobyl Diaries', 'Frozen', 'Hannah and Her Sisters', \"The Girl Who Kicked the Hornets' Nest\", 'Robot & Frank', 'Freedom Writers', 'Agora', 'The Karate Kid Part II', 'Showtime', 'Observe and Report', 'Black Snake Moan', 'Out of Africa', 'Breach', 'Titan A.E.', 'Brotherhood of the Wolf', 'The Saint', 'Runner Runner', 'Europa Report', 'El mariachi', 'The Gift', 'Land of the Lost', 'Superhero Movie', 'S1m0ne', 'The Thirteenth Floor', 'The King of Comedy', 'Breathless', 'Wimbledon', 'Fried Green Tomatoes at the Whistle Stop Cafe', 'In Her Shoes', 'Being There', 'Salmon Fishing in the Yemen', 'Redemption', 'Invincible', 'Footloose', 'Control', 'xXx²: The Next Level', 'Jaws 2', 'The Brave One', 'Miss Congeniality 2: Armed & Fabulous', 'Paranormal Activity 4', 'Dorian Gray', \"The 'Burbs\", 'The Duff', 'Finding Dory', 'Oldboy', 'Free Willy', 'When in Rome', 'Goal!', 'Hunger', 'Candyman', 'Halloween II', 'The Lookout', 'Everything Is Illuminated', 'A Simple Plan', 'Kiss the Girls', 'Ring', '13 Assassins', 'Going the Distance', 'Penelope', 'Cube 2: Hypercube', 'Dirty Rotten Scoundrels', 'Date Movie', 'Arachnophobia', 'Gods of Egypt', 'Scary Movie 5', 'That Thing You Do!', 'The Philadelphia Story', 'Drillbit Taylor', 'Appaloosa', 'Christine', 'Firewall', 'Heavenly Creatures', 'The Specialist', 'The Blue Lagoon', 'What About Bob?', 'The Outlaw Josey Wales', 'Charade', 'My Left Foot', 'Fanboys', 'The November Man', 'Cell 211', 'Basic', 'Manhunter', 'Red Heat', 'Cobra', \"Everybody's Fine\", 'Showgirls', 'Silent Hill: Revelation', 'Superman III', 'As Above, So Below', 'A Nightmare on Elm Street 3: Dream Warriors', 'The Stepford Wives', 'Paris, Texas', 'The Hills Have Eyes II', \"Bill & Ted's Bogus Journey\", 'Day of the Dead', 'The Longest Ride', 'Nanny McPhee', 'James And The Giant Peach', 'Ri¢hie Ri¢h', 'Vertical Limit', 'What If', 'Daddy Day Care', 'Mindhunters', 'The First Time', 'Beethoven', 'Traitor', 'Proof of Life', 'In the Heat of the Night', 'K-19: The Widowmaker', 'The Darkest Hour', 'Little Shop of Horrors', 'Enough Said', 'Larry Crowne', 'The Haunting in Connecticut', 'Paddington', 'The Family Stone', 'La dolce vita', 'In Good Company', 'Major League', 'Waking Life', 'Punisher: War Zone', 'The Net', 'Halloween H20: 20 Years Later', '1984', 'The Omen', 'Eight Below', 'BASEketball', 'Ladder 49', 'Breaking the Waves', 'The Crimson Rivers', 'Independence Day: Resurgence', 'Before I Go to Sleep', 'Win Win', 'Never Say Never Again', 'Blast from the Past', 'Stripes', 'Rust and Bone', 'Four Christmases', 'The Gambler', 'A Night at the Roxbury', 'Final Fantasy VII: Advent Children', 'The Nanny Diaries', \"I'm Not There\", 'The Replacements', 'Frankenstein', 'Bangkok Dangerous', 'Half Baked', 'No Escape', 'Red Lights', 'Turner & Hooch', 'The Signal', 'What a Girl Wants', 'Darkman', 'Something Borrowed', 'Dirty Grandpa', 'Trouble with the Curve', 'The Ten Commandments', 'Save the Last Dance', 'Dick Tracy', 'Mr. Peabody & Sherman', 'Urban Legend', \"The Devil's Backbone\", 'Indecent Proposal', 'Far and Away', 'The Wicker Man', 'Ella Enchanted', 'The Witches of Eastwick', 'Red Planet', 'The Great Debaters', 'The Midnight Meat Train', 'Porco Rosso', \"America's Sweethearts\", 'Wings of Desire', 'Goosebumps', 'The Nice Guys', 'Conquest 1453', 'Sabotage', 'The Animal', 'Fish Tank', 'The Death and Life of Charlie St. Cloud', 'Step Up 3D', 'Apollo 18', 'Rendition', 'Badlands', 'The Possession', 'Mortdecai', 'Night Watch', 'Dil Chahta Hai', 'Sanctum', 'Friday Night Lights', 'Takers', 'Duck Soup', 'All Quiet on the Western Front', 'We Are Marshall', 'Like Crazy', 'Jack', 'Excalibur', 'La Strada', 'Coffee and Cigarettes', 'Anatomy of a Murder', 'The Peacemaker', 'Stepmom', 'Grudge Match', 'The Fog', 'The Ice Storm', 'Legally Blonde 2: Red, White & Blonde', 'Bullitt', 'The Awakening', 'The Ghost and the Darkness', 'Duplex', 'To Catch a Thief', 'The Sweetest Thing', 'Top Secret!', 'Dream House', 'The Rainmaker', 'Becoming Jane', 'R.V.: Runaway Vacation', 'Wristcutters: A Love Story', 'Away We Go', 'Cats & Dogs', 'Benny & Joon', 'Sympathy for Mr. Vengeance', 'Hoodwinked', 'Time Bandits', 'Out of Time', 'Best in Show', 'Flight of the Phoenix', 'Drinking Buddies', 'The Client', 'The Whole Ten Yards', 'Legend', 'The Remains of the Day', 'Jonah Hex', 'A Most Violent Year', 'Animal Kingdom', 'Arthur', 'My Bloody Valentine', \"The Devil's Own\", 'Suspiria', '13 Hours', 'Two Night Stand', 'Shallow Grave', \"The Astronaut's Wife\", 'Dog Soldiers', 'Chakde! India', 'Stealth', 'The Book of Life', 'Gangs of Wasseypur', 'Straw Dogs', 'Step Up 4: Miami Heat', 'Bad Education', 'House on Haunted Hill', 'Bernie', 'Enter the Void', 'Tristan + Isolde', 'The Legend of Bagger Vance', 'Shadow of a Doubt', 'The Right Stuff', 'Magic in the Moonlight', 'Thirteen Days', 'The Art of Getting By', 'The Condemned', 'LOL', 'Jeepers Creepers 2', 'Stand Up Guys', 'The Majestic', 'Wicker Park', 'Dark Water', 'Original Sin', 'The Legend of Hercules', 'The Young Victoria', 'Keeping the Faith', 'Bringing Up Baby', 'Spy Kids 2: Island of Lost Dreams', 'Quills', 'The Sisterhood of the Travelling Pants', '4 Months, 3 Weeks and 2 Days', 'Cocoon', 'The Dead Zone', 'Dogtooth', 'Zookeeper', 'Marathon Man', 'Underground', 'The Mighty Ducks', 'Stuck on You', 'Dennis the Menace', 'Timecop', 'Harvey', 'The Rules of Attraction', 'Sabrina', 'Judgment at Nuremberg', 'Last Man Standing', 'Soldier', 'Three Colors: White', 'Casanova', 'My Blueberry Nights', \"The World's Fastest Indian\", 'Heartbreakers', 'In the Loop', 'The Chorus', 'The Eye', 'The Soloist', 'The Mission', 'Crocodile Dundee II', 'Just My Luck', 'Funny Games', 'Paprika', 'Cry-Baby', 'Unfriended', 'Soylent Green', \"Cassandra's Dream\", 'Spirit: Stallion of the Cimarron', 'Sneakers', 'Hesher', 'Queen of the Damned', 'The Game Plan', 'Lords of Dogtown', 'Frances Ha', 'The Frozen Ground', 'Take Me Home Tonight', 'V/H/S', 'Session 9', 'High School Musical 3: Senior Year', 'Eight Legged Freaks', 'The Dilemma', 'The Rocketeer', \"Hart's War\", 'Concussion', 'Kal Ho Naa Ho', 'Star Trek V: The Final Frontier', 'Murder by Numbers', 'Wolf', 'Short Circuit', 'Chaos', 'Alfie', \"A Nightmare on Elm Street Part 2: Freddy's Revenge\", 'Secondhand Lions', 'Hudson Hawk', 'The Gods Must Be Crazy', 'Race to Witch Mountain', 'The Love Guru', 'Stalag 17', 'Monster-in-Law', 'The Wind Rises', 'The Collector', 'The Longest Day', 'Magnum Force', 'Fanny and Alexander', 'Dilwale Dulhania Le Jayenge', 'The Proposition', 'In the Mouth of Madness', 'The Rescuers', 'Knock Knock', 'Sexy Beast', 'Great Expectations', 'The American President', 'The Man from Nowhere', 'Trumbo', 'Ghosts of Mars', 'Valhalla Rising', 'Road House', 'Chaplin', 'Shine', 'The 51st State', 'Beavis and Butt-Head Do America', 'Crimes and Misdemeanors', 'Zindagi Na Milegi Dobara', 'The Best of Me', \"National Lampoon's European Vacation\", 'Transsiberian', 'Teenage Mutant Ninja Turtles II: The Secret of the Ooze', 'Rio Bravo', 'The Jerk', 'Kinsey', 'Lake Placid', 'Ichi the Killer', 'A Tale of Two Sisters', 'Cheaper by the Dozen 2', \"The General's Daughter\", 'Show Me Love', \"John Carpenter's Vampires\", 'The Pledge', 'How High', 'Fright Night', 'Young Guns', '15 Minutes', 'Frankenstein', 'Gnomeo & Juliet', 'Rudy', 'The Triplets of Belleville', 'Blue Ruin', 'Bulletproof Monk', 'Copycat', 'Jab Tak Hai Jaan', 'Crash', 'Open Water', 'U Turn', 'Star Wars: The Clone Wars', 'The Unborn', 'The Sentinel', 'Ikiru', 'The Man Who Knew Too Much', 'The Killing Fields', 'Inland Empire', 'American Splendor', 'Coneheads', 'Les Diaboliques', 'Kalifornia', 'The East', 'The Player', 'White Noise', 'A River Runs Through It', 'Red Dawn', 'Duplicity', 'Innerspace', 'The Brothers Bloom', 'Veronica Mars', 'Rent', 'I Spy', 'Poltergeist', 'Perfect Sense', 'The Dark Crystal', 'Gigli', 'Joe Dirt', 'Bajrangi Bhaijaan', 'The Experiment', 'The Three Musketeers', 'Arbitrage', 'Orange County', 'Automata', 'The Last Exorcism', 'The Adventures of Baron Munchausen', '2046', 'Beasts of No Nation', 'Calvary', 'Allegiant', 'Mousehunt', 'Mr. Holmes', \"Pee-wee's Big Adventure\", '2010: The Year We Make Contact', 'A Wednesday', 'The Crying Game', 'Don Juan DeMarco', 'Boiler Room', 'You Again', 'Vampire Academy', 'Rachel Getting Married', 'Planet 51 (Planet One)', 'Deuce Bigalow: European Gigolo', \"A New York Winter's Tale\", 'All Good Things', 'Lions for Lambs', 'Working Girl', 'His Girl Friday', 'Bound', 'Blow-Up', 'Rumor Has It...', 'Untraceable', 'W.', 'The Legend of 1900', 'Head-On', 'Dave', 'Executive Decision', 'Bhaag Milkha Bhaag', 'Diary of the Dead', \"Don't Be Afraid of the Dark\", 'Timecrimes', 'Black Cat, White Cat', 'The Boxtrolls', 'Youth', 'Son of the Mask', 'Walk of Shame', 'Munna Bhai M.B.B.S.', 'The Back-up Plan', 'Rabbit Hole', 'The Benchwarmers', 'Wet Hot American Summer', 'The Matador', 'Zatoichi: The Blind Swordsman', 'Taxi 2', 'Queen', 'Lakeview Terrace', 'Where Eagles Dare', 'Chariots of Fire', 'Martha Marcy May Marlene', 'Chungking Express', \"Don't Say a Word\", 'Chain Reaction', 'Grave Encounters', 'London Boulevard', 'The Best Years of Our Lives', 'Saved!', 'Everything Must Go', 'Child 44', 'Terms of Endearment', 'A Bridge Too Far', 'Me Before You', 'Night on Earth', 'Spy Kids 3: Game Over', 'Battleship Potemkin', 'Courage Under Fire', 'The 39 Steps', \"Dead Man's Shoes\", 'Re-Animator', 'Revenge of the Nerds', 'Freddy Got Fingered', \"Logan's Run\", 'The Golden Child', 'The Return of the Living Dead', 'Bride of Chucky', 'The Beaver', 'The Last Temptation of Christ', 'Bad Company', 'Friday the 13th: Part 2', 'New York, I Love You', 'Pan', 'The Jewel of the Nile', 'After Hours', 'Aloha', 'The Producers', 'The Covenant', 'Absolute Power', 'Menace II Society', 'Little Man', 'A Serbian Film', 'Pale Rider', 'Nutty Professor II: The Klumps', 'The Hole', 'Very Bad Things', 'Black Rain', 'Draft Day', 'Last Night', 'The Runaways', 'City Slickers', 'Bullet to the Head', 'Life as a House', 'Vampires Suck', 'The Rebound', 'Grimsby', 'National Security', 'THX 1138', 'Sisters', 'The Cabinet of Dr. Caligari', 'Jason X', 'Alive', 'Bubba Ho-Tep', 'Cannibal Holocaust', 'Police Academy 2: Their First Assignment', 'The Adventures of Robin Hood', 'Justice', 'Blackhat', 'French Kiss', 'The Grudge 2', 'The Killer', 'The Flowers of War', '3-Iron', 'Departures', 'Frantic', 'Salò, or the 120 Days of Sodom', 'The Piano Teacher', 'The Fan', 'Hard Boiled', 'DOA: Dead or Alive', 'Fair Game', 'In the Name of the King: A Dungeon Siege Tale', 'Dinosaur', 'Don 2', 'Breakdown', 'Bad Words', 'Aguirre, the Wrath of God', \"Weekend at Bernie's\", 'A Man Apart', 'After the Sunset', '11:14', 'Empire Records', 'Gomorrah', 'Dangerous Minds', 'Super Mario Bros.', 'The Wedding Date', 'Nine Queens', 'Bobby', 'Kahaani', \"Wes Craven's New Nightmare\", 'The Last Kiss', '3000 Miles to Graceland', 'Che: Part One', 'An Officer and a Gentleman', 'Psycho', \"Don't Be a Menace to South Central While Drinking Your Juice in the Hood\", 'Magic Mike XXL', 'The Pink Panther', 'How to Be Single', 'Flash Gordon', 'The Good Girl', 'Now You See Me 2', 'An American Tail', 'Tin Cup', 'Kung Pow: Enter the Fist', \"Can't Hardly Wait\", 'The War of the Roses', 'The Money Pit', \"No Man's Land\", 'The Big Blue', 'Sex, Lies, and Videotape', 'Perfect Stranger', 'Tell No One', 'Cosmopolis', 'Airheads', 'Waitress', 'Asterix & Obelix: Mission Cleopatra', 'Employee of the Month', 'Sydney White', 'Alone in the Dark', 'Mongol: The Rise to Power of Genghis Khan', 'Rules of Engagement', 'Loaded Weapon 1', 'Fletch', 'Days of Heaven', 'Extract', 'Hobo with a Shotgun', 'Without a Paddle', 'The Big Wedding', 'Nine', 'Over the Top', 'The Reaping', 'The Odd Life of Timothy Green', 'District 13: Ultimatum', 'The Visitor', 'Invasion of the Body Snatchers', 'Pathfinder', 'Star Trek Beyond', 'Much Ado About Nothing', 'Airplane II: The Sequel', 'Lolita', 'Footloose', 'The Battle of Algiers', 'Bachelorette', 'Sleuth', 'My Sassy Girl', 'My Own Private Idaho', \"My Best Friend's Girl\", 'Wild Child', 'Bull Durham', 'Fired Up!', '3 Men and a Baby', 'Stolen', 'The Pirates! In an Adventure with Scientists!', 'Red Cliff', \"Look Who's Talking Too\", 'The Wind that Shakes the Barley', 'Overboard', 'True Story', 'Two for the Money', 'Haider', 'Mimic', 'The Company Men', 'Celal and Ceren', 'The Adventures of Priscilla, Queen of the Desert', 'In America', 'Passenger 57', 'Honey', \"Buffalo '66\", 'The Counterfeiters', 'Miracle', 'Little Women', 'Disclosure', 'Far from Heaven', 'History of the World: Part I', 'Inspector Gadget', 'Curse of the Golden Flower', 'Highlander II: The Quickening', 'Sleeping with the Enemy', 'Cabaret', 'Joe', 'Baby', 'Herbie Fully Loaded', 'Stuart Little 2', 'The Sessions', 'Mortal Kombat: Annihilation', 'The Chaser', 'Chennai Express', 'High Plains Drifter', 'Halloween II', 'Wild Card', 'Transamerica', 'Sister Act 2: Back in the Habit', 'Proof', 'Forever Young', 'One Fine Day', 'Murder on the Orient Express', 'Bad Taste', 'Nothing to Lose', 'The Age of Innocence', 'The Perfect Catch', 'Friends with Kids', 'Kickboxer', 'Down by Law', 'Reality Bites', 'The Purple Rose of Cairo', 'Last Tango in Paris', 'The Girl Who Leapt Through Time', 'You Will Meet a Tall Dark Stranger', 'Sinbad: Legend of the Seven Seas', 'He Got Game', 'The Man Who Would Be King', 'A Nightmare on Elm Street 4: The Dream Master', 'Ghajini', 'Death at a Funeral', 'The Collection', 'The Cat in the Hat', 'The Cobbler', \"Cirque du Freak: The Vampire's Assistant\", 'The Guns of Navarone', 'Under Siege 2: Dark Territory', 'MacGruber', 'Tammy', 'See No Evil, Hear No Evil', 'Somewhere', 'Candy', 'The Hunted', \"Get Rich or Die Tryin'\", 'The Lady Vanishes', 'Black Dynamite', 'Million Dollar Arm', 'Naked Lunch', 'Parenthood', 'Black Death', 'Under the Tuscan Sun', 'The Avengers', 'Edtv', 'Flyboys', 'Deconstructing Harry', 'Shall We Dance', 'Carriers', 'Soul Surfer', 'Arthur Christmas', 'Moonstruck', 'Lilya 4-Ever', 'Balls of Fury', 'Three Days of the Condor', 'Kill the Irishman', 'The Wages of Fear', 'Varsity Blues', 'Wyatt Earp', \"Adam's Apples\", \"Mr. Magorium's Wonder Emporium\", 'Repulsion', 'Short Cuts', 'The Producers', 'Flashdance', 'Ordinary People', 'Pride', 'Texas Chainsaw', 'Scanners', 'How Do You Know', 'Planes', \"This Boy's Life\", 'Swimming Pool', 'Michael', 'Odd Thomas', 'Stone', 'Prime', 'The Colony', 'RoboCop 3', \"'71\", 'Cradle 2 the Grave', 'Rising Sun', 'Striptease', 'Glory Road', 'Teen Wolf', 'Dirty Pretty Things', 'The Hitcher', 'Conviction', 'The Big Year', \"Kelly's Heroes\", '1: Nenokkadine', 'Death to Smoochy', 'To Die For', 'My Father and My Son', 'Hot Pursuit', 'Children of the Corn', 'When a Stranger Calls', 'Gone', 'Black Sheep', 'Steel Magnolias', 'The Boy', 'Vishwaroopam', 'Grumpy Old Men', 'The Double', 'Rock Star', '28 Days', 'Hard Target', 'A Haunted House', 'Teeth', 'The Natural', 'Spies Like Us', 'The Bandit', 'The Santa Clause 2', 'Think Like a Man', 'Ida', 'The Karate Kid Part III', 'The Legend of Drunken Master', 'Anonymous', 'Eliza Graves', 'Big Stan', 'The Kid', 'Congo', 'Driven', 'The Voices', 'Rob Roy', \"Don't Look Now\", '13', 'Pot Luck', 'Bone Tomahawk', 'Blood Work', 'Ironclad', 'Invasion of the Body Snatchers', 'Trespass', 'Hope Springs', 'Arizona Dream', 'Veer Zaara', 'The SpongeBob Movie: Sponge Out of Water', 'Stake Land', 'Best Shot', 'Whale Rider', 'Crossroads', 'Flight of the Navigator', 'The Three Burials of Melquiades Estrada', 'People Like Us', 'Trust', 'Shadow of the Vampire', 'One for the Money', 'Kon-Tiki', 'The Little Rascals', 'The Zero Theorem', 'Life', 'The Rover', 'Narc', 'Baby Mama', 'The Hitcher', 'The Ward', 'Zoolander 2', 'A Goofy Movie', 'Forbidden Planet', 'Dhoom 3', 'Enemy Mine', 'From Here to Eternity', \"Romy and Michele's High School Reunion\", 'Marnie', 'Guess Who', 'Dr. Dolittle 2', 'Better Off Dead...', 'The Muppet Christmas Carol', 'Macbeth', 'The Loft', 'Idle Hands', 'Cat on a Hot Tin Roof', 'Vegas Vacation', 'Woman in Gold', 'Howard the Duck', 'Striking Distance', 'Hustle & Flow', 'The Messengers', 'G.O.R.A.', 'Ladyhawke', 'Superman IV: The Quest for Peace', 'The Joneses', 'The Hottie & the Nottie', 'Tigerland', 'Point Break', 'The Great Mouse Detective', 'Sleeper', 'Saving Silverman', 'JCVD', 'True Grit', 'Ginger Snaps', 'Casualties of War', 'Boy A', 'Down with Love', 'Starman', \"The Huntsman: Winter's War\", 'Hardcore Henry', 'The Past', \"Baby's Day Out\", 'Scooby-Doo 2: Monsters Unleashed', 'Homeward Bound: The Incredible Journey', 'On the Road', 'All About Steve', 'Gridiron Gang', 'G-Force', 'Clash of the Titans', 'The Pink Panther 2', 'Dracula', 'Monte Carlo', 'Spellbound', 'Taxi', 'A Royal Affair', 'The Poseidon Adventure', 'Fahrenheit 451', 'North Country', 'Special Chabbis', 'Middle Men', 'In a Better World', 'Cedar Rapids', 'Southland Tales', 'Deception', 'Police Academy 3: Back in Training', 'Cleaner', 'The River Wild', 'Deadfall', 'Roxanne', 'Nick of Time', 'Smokey and the Bandit', 'In the Bedroom', 'Because I Said So', 'Spread', 'Buffy the Vampire Slayer', 'Oliver & Company', 'Happy Feet Two', 'Radio', 'In & Out', 'The Horse Whisperer', 'Spun', 'Beneath the Planet of the Apes', 'The Rocker', 'The Legend of Tarzan', 'Kill the Messenger', 'Happy-Go-Lucky', 'The Damned United', 'Kuch Kuch Hota Hai', 'Money Train', 'The Savages', 'Les Misérables', 'Honey, I Blew Up the Kid', 'License to Wed', 'Freaks', 'Byzantium', \"It's a Boy Girl Thing\", 'The Enforcer', 'House of the Dead', 'The Descent: Part 2', 'Two Days, One Night', 'The Haunted Mansion', 'Brick Mansions', 'Stop! Or My Mom Will Shoot', 'Of Mice and Men', 'Piranha 3DD', 'Coco Before Chanel', 'Diary of a Wimpy Kid', 'The Prince & Me', 'The Transformers: The Movie', 'Brotherhood', \"World's Greatest Dad\", \"Big Momma's House 2\", 'Whiteout', 'Friday the 13th: Part III', 'Severance', 'The Water Horse', 'Ju On: The Grudge', 'Romper Stomper', 'Labor Day', 'Ouija', 'Defendor', 'The Night Before', 'Dragonfly', 'Bride of Frankenstein', 'The Curse of the Jade Scorpion', 'The First Wives Club', 'The Tall Man', 'Fear', 'Assault on Precinct 13', 'Midnight in the Garden of Good and Evil', 'Paranormal Activity: The Marked Ones', 'Throne of Blood', 'Hannah Montana: The Movie', 'Mighty Aphrodite', 'Ra.One', 'Meet Dave', 'Le Samouraï', 'Zelig', 'Alvin and the Chipmunks: The Squeakquel', 'The Return', 'Fred Claus', 'Shutter', 'Triple 9', 'The Air I Breathe', 'Cowboy Bebop: The Movie', 'Chopper', 'The Libertine', 'In the Land of Blood and Honey', 'Police Academy 4: Citizens on Patrol', 'Laura', 'Hector and the Search for Happiness', 'Taxi 3', 'The Last Picture Show', \"A Hard Day's Night\", \"Child's Play 2\", 'The Ringer', 'What Ever Happened to Baby Jane?', 'Hollywood Homicide', \"God's Not Dead\", 'The Inbetweeners 2', \"Porky's\", 'Broken Embraces', 'Paradise Lost', 'Endless Love', 'Summer of Sam', 'The Tale of Despereaux', 'Old Dogs', 'The Skeleton Twins', 'Small Time Crooks', 'Me and You and Everyone We Know', 'Basic Instinct 2', 'Reindeer Games', 'Anna and the King', 'Stagecoach', 'The Invisible', 'Mr. Woodcock', 'Sudden Impact', 'Everything You Always Wanted to Know About Sex * But Were Afraid to Ask', 'Asterix and Obelix Take on Caesar', 'The Cat Returns', 'Frenzy', 'Leviathan', 'The Dead Pool', 'Tusk', 'Man Up', 'Starred Up', 'Raising Helen', 'Irrational Man', 'After.Life', 'A Thousand Words', 'Jaws: The Revenge', 'Eddie the Eagle', 'Night of the Living Dead', 'Lovelace', 'Anomalisa', 'Black Knight', 'The Tournament', 'Bird on a Wire', \"Freddy's Dead: The Final Nightmare\", 'Thirst', 'Withnail & I', 'Beverly Hills Ninja', 'The Italian Job', 'Detroit Rock City', 'Say When', 'Confidence: After Dark', 'Enough', 'BloodRayne', 'Nothing But the Truth', 'Dumb and Dumberer: When Harry Met Lloyd', 'Hamlet', 'Keith', 'The Devil Inside', 'Eye in the Sky', 'Manos: The Hands of Fate', 'Notorious', 'Welcome to the Sticks', 'Lust, Caution', 'East of Eden', 'Annie', 'The Divide', 'Maria Full of Grace', 'The Room', 'Aquamarine', 'Orgazmo', 'Airlift', 'The Guilt Trip', 'Chitty Chitty Bang Bang', 'Tooth Fairy', 'Hearts in Atlantis', 'Hellbound: Hellraiser II', 'Andaz Apna Apna', 'The Believer', 'Redirected', 'Kicking & Screaming', \"Mr. Holland's Opus\", 'Promised Land', 'The Hunter', 'The Lunchbox', 'Red Sonja', 'Heartbreak Ridge', 'Sea of Love', 'The Protector', 'Balto', 'Evil', 'Dracula: Dead and Loving It', 'Nurse Betty', 'Miracle on 34th Street', \"While We're Young\", 'A Life Less Ordinary', 'The House of the Devil', 'Spider', 'Chasing Liberty', 'Everyone Says I Love You', 'Maggie', 'Bringing Down the House', 'High Crimes', 'The Ant Bully', 'Plan 9 from Outer Space', 'The Party', 'Wild Target', 'I Give It a Year', 'Rab Ne Bana Di Jodi', 'Ravenous', 'Cyrus', 'Mickey Blue Eyes', 'The Towering Inferno', 'Jab We Met', 'The Spy Next Door', 'Creepshow', 'Sholay', 'Nine Months', 'Gallipoli', 'John Dies at the End', 'Fiddler on the Roof', 'The Medallion', 'Rumble in the Bronx', 'Black Sheep', 'Day Watch', 'Greenberg', 'Sabrina', 'The Merchant of Venice', 'California Man', 'Undercover Brother', 'Alexander and the Terrible, Horrible, No Good, Very Bad Day', 'Birth', 'Bad Lieutenant', 'Two Lovers', 'Whisper of the Heart', 'Lock Up', 'The Messenger', 'A Nightmare on Elm Street: The Dream Child', 'Spy Hard', 'Le Dîner de Cons', 'Halloween 4: The Return of Michael Myers', 'Bulletproof', 'The Baader Meinhof Complex', 'A Room with a View', '9½ Weeks', 'Midnight Special', 'Another 48 Hrs.', 'Did You Hear About the Morgans?', 'Sex and Lucía', 'The To-Do List', 'Mean Machine', 'Krampus', 'The Hand That Rocks the Cradle', 'Friday the 13th Part - IV: The Final Chapter', 'Bully', 'The Fog', 'Kabhi Khushi Kabhie Gham...', 'Holy Motors', 'Amarcord', 'Wasabi', 'Bullets Over Broadway', 'Dead Ringers', 'Batman: Mask of the Phantasm', 'Private Parts', 'Dead Calm', 'The Broken Circle Breakdown', 'The Message', \"It's a Mad Mad Mad Mad World\", 'Presumed Innocent', 'The Butterfly Effect 2', 'Hit and Run', 'The Last Legion', 'The Class', 'Wish I Was Here', 'Pokémon: The First Movie', \"Sophie's Choice\", 'Far from the Madding Crowd', 'The Fifth Estate', 'Central Intelligence', 'The Day of the Jackal', 'Evita', 'Drishyam', 'Soul Kitchen', 'Camp X-Ray', 'Sunrise: A Song of Two Humans', 'Belle de Jour', 'The Nines', 'Adam', 'The Roommate', 'Udaan', 'Uptown Girls', 'Hollywoodland', 'The Last Starfighter', 'Igby Goes Down', 'Apt Pupil', 'Nowhere Boy', 'The Paperboy', 'Big Fat Liar', 'Inside', 'Zulu', 'Liberal Arts', 'Up in Smoke', 'Central Station', \"Guess Who's Coming to Dinner\", 'Message in a Bottle', 'Book of Shadows: Blair Witch 2', 'Shattered Glass', 'Om Shanti Om', 'Bandidas', 'Red Tails', 'The New Guy', 'Thick as Thieves', 'The Cooler', 'Double Impact', 'The Crucible', 'Drumline', 'Exorcist: The Beginning', 'The Great Outdoors', 'The Cave', 'Seed of Chucky', 'Femme Fatale', 'Key Largo', 'Choke', 'Halloween III: Season of the Witch', 'Admission', 'The Cold Light of Day', 'The Last Days on Mars', 'Secrets & Lies', 'The Shipping News', 'Bachelor Party', 'The Killer Inside Me', 'Hard Eight', 'Paranoia', 'The Illusionist', 'Manhattan Murder Mystery', 'Adventures in Babysitting', 'Man Bites Dog', 'Spice World', 'The Lazarus Effect', 'Hera Pheri', 'Keeping Mum', \"Brewster's Millions\", 'Force Majeure', 'Killing Season', 'The Gunman', 'Dolores Claiborne', 'The Good Son', 'Jaws 3', 'Slap Shot', 'Alex Cross', 'Silverado', 'Man of Tai Chi', 'Maps to the Stars', 'I Love You, Beth Cooper', 'Cube Zero', 'The Four Feathers', 'Victor Frankenstein', 'The Secret Garden', \"Captain Corelli's Mandolin\", \"Nim's Island\", 'Hot Tub Time Machine 2', 'The Double Life of Véronique', 'Find Me Guilty', 'Masters of the Universe', 'Heist', 'So I Married an Axe Murderer', 'Joe Versus the Volcano', 'Man of the Year', 'Ride Along 2', \"Muriel's Wedding\", 'Shane', 'Smoke', 'D2: The Mighty Ducks', 'Thesis', 'The Railway Man', \"Charlotte's Web\", 'Talaash', 'The Lawnmower Man', \"St. Elmo's Fire\", 'Who Am I?', 'Emma', 'Velvet Goldmine', 'Undisputed 3: Redemption', 'The Loved Ones', 'It Could Happen to You', 'In the Land of Women', '54', 'Sweet and Lowdown', 'Leatherheads', 'Dungeons & Dragons', 'Chaos Theory', 'Bug', 'Prom Night', 'Bananas', 'Fighting', 'To Strike', 'The Phantom', 'Love and Death', 'The Amityville Horror', 'Exit Wounds', 'Children of Heaven', 'Blow Out', 'The Way of the Gun', 'Christmas with the Kranks', 'The Lizzie McGuire Movie', 'Fantasia 2000', 'The Missing', 'The Secret of N-I-M-H', 'Snoopy and Charlie Brown: The Peanuts Movie', 'Slow West', 'The Tenant', 'The Marine', 'Next Friday', 'Garfield 2', 'Fools Rush In', 'Che: Part Two', 'Jules and Jim', 'Dracula 2001', 'Mommy', 'The Woodsman', 'Mother', 'Shortbus', 'Caligula', 'Passengers', 'City Island', 'Get Carter', 'Lage Raho Munna Bhai', 'The Wackness', 'Perfect Blue', 'Drop Dead Gorgeous', 'Maniac', 'C.R.A.Z.Y.', 'The Innkeepers', 'The Smurfs 2', 'The Time Machine', 'Instinct', 'OMG: Oh My God!', 'Peggy Sue Got Married', 'Dark Places', 'Throw Momma from the Train', 'Melinda and Melinda', 'The Discreet Charm of the Bourgeoisie', 'Straw Dogs', 'The Rescuers Down Under', 'Cypher', 'The Final Cut', 'The Boy Next Door', 'V/H/S/2', 'Where the Heart Is', 'The Cook, the Thief, His Wife & Her Lover', 'Cake', 'Coriolanus', 'The Quiet Man', '24 Hour Party People', 'Son of Rambow', 'Last Knights', 'The Edukators', 'Hair', 'Tideland', 'The Unbearable Lightness of Being', 'Halloween: Resurrection', 'Hard Rain', 'The Human Centipede 2 (Full Sequence)', '2 Days in Paris', 'Cujo', 'The Skulls', 'Pathology', 'Vicky Donor', 'Little Big Man', 'The Red Violin', 'Now Is Good', 'Ninja Scroll', 'Flypaper', 'Tomorrow, When the War Began', 'The Ridiculous 6', 'La Grande Illusion', 'Westworld', 'May', 'Welcome to the Punch', 'Agent Cody Banks', 'The Salton Sea', 'The Sweet Hereafter', 'If Only', 'Forces of Nature', 'Ghost in the Shell 2: Innocence', 'The Finest Hours', 'Father of the Bride Part II', '5 Centimeters per Second', 'Spartan', 'One Missed Call', 'Splinter', 'Boat Trip', 'Shutter', 'Beautiful Girls', 'Deep Rising', 'All Dogs Go to Heaven', 'The Transporter Refuelled', 'Welcome to the Dollhouse', 'Antwone Fisher', 'Mesrine Part 1: Killer Instinct', 'Toys', 'Frequently Asked Questions About Time Travel', 'Tokyo Story', 'The Rookie', 'Once Upon a Time in Anatolia', 'Envy', '102 Dalmatians', 'The Little Prince', 'Mean Creek', 'Bad Neighbours 2', 'Grease 2', 'Fan', 'Hedwig and the Angry Inch', 'No Way Out', 'Giant', 'The Verdict', 'Time Lapse', 'The Haunting', 'Armoured', 'Kind Hearts and Coronets', 'The Postman', 'Brief Encounter', 'Hababam Sinifi', 'Cursed', 'The Good the Bad the Weird', 'Rubber', 'School for Scoundrels', 'Bedknobs and Broomsticks', 'The Legend Is Born: Ip Man', 'P2', 'Doc Hollywood', 'The Company You Keep', 'Blue Crush', 'The Island of Dr. Moreau', 'For Love of the Game', 'Happythankyoumoreplease', 'Confessions', 'This Must Be the Place', '[REC] 3: Genesis', 'Goal II: Living the Dream', 'Big Nothing', 'Boogeyman', 'The Edge of Heaven', 'Green Room', \"One Night at McCool's\", 'All the Boys Love Mandy Lane', 'The Cannonball Run', 'Must Love Dogs', 'Unknown', 'Darkness Falls', 'In a World...', 'Nights of Cabiria', 'Stay Alive', 'The Andromeda Strain', 'Arthur and the Invisibles', 'Pusher', 'Bitter Moon', 'Sleuth', 'Solace', 'K-9', 'Angel-A', 'Priceless', 'Devdas', 'Sleeping Beauty', 'Demolition', 'The Big Chill', 'Kill List', 'Cold in July', 'Happy New Year', 'Astro Boy', 'About Elly', 'Sudden Death', 'Dragnet', 'The Last House on the Left', 'Sin Nombre', 'Kill Your Darlings', 'Shelter', 'Osmosis Jones', 'Antitrust', 'After the Wedding', 'White Oleander', 'Feast', 'Twilight Zone: The Movie', 'Bubble Boy', 'The Human Stain', '22 Bullets', 'Once Were Warriors', 'The Three Stooges', 'Oliver Twist', 'Near Dark', 'The Muppet Movie', 'The Glass House', 'True Crime', 'Blues Brothers 2000', 'The Seven Year Itch', \"Hang 'Em High\", 'Butterfly on a Wheel', 'An American Crime', 'Drunken Master', 'Police Academy 5: Assignment: Miami Beach', 'Hysteria', 'Come and See', 'Jersey Boys', 'Victoria', 'Five Easy Pieces', 'Superbabies: Baby Geniuses 2', 'The Art of War', 'Love Happens', 'L.A. Story', 'Paranoid Park', 'Drugstore Cowboy', 'Oliver!', 'Friday the 13th VI: Jason Lives', 'Repo Man', 'The Arrival', 'The War of the Worlds', 'The Physician', 'Blood and Bone', 'The Commitments', 'Step Up All In', 'Picnic at Hanging Rock', 'A Bittersweet Life', 'A Little Princess', 'Rockstar', '1941', 'Prince of Darkness', 'Women on the Verge of a Nervous Breakdown', 'Anything Else', 'Double Team', 'The Odd Couple', 'The Hundred Year-Old Man Who Climbed Out of the Window and Disappeared', \"Goya's Ghosts\", 'Teenage Mutant Ninja Turtles III', 'Stranger Than Paradise', 'The Vanishing', 'Fido', 'Tsotsi', 'Death Wish', 'Yeh Jawaani Hai Deewani', 'Tora! Tora! Tora!', 'Watership Down', 'Gods and Monsters', 'Pulse', 'The Machine', 'Chasing Mavericks', 'The Barbarian Invasions', 'The Passion of Joan of Arc', 'Police Academy: Mission to Moscow', 'The Lost Weekend', 'Sinister 2', 'The Trouble with Harry', 'Babe: Pig in the City', 'The Big Hit', 'Pushing Tin', \"Child's Play 3\", 'Murder by Death', 'The Eye', 'Winter Sleep', 'Black Sea', 'Ken Park', 'Tank Girl', 'A Long Way Down', 'Multiplicity', 'A Night at the Opera', 'Tyrannosaur', 'Seraphim Falls', 'Left Behind', 'Micmacs', 'Annie', 'Taking Woodstock', 'Compliance', 'A Walk in the Clouds', 'A.W.O.L.: Absent Without Leave', 'Ong Bak 2', 'The Grandmaster', 'Troll 2', 'Don', 'The Witches', 'Resident Evil: Degeneration', 'The Whistleblower', 'The Prophecy', 'Jack Frost', 'Alan Partridge: Alpha Papa', 'The Visitors', 'Scouts Guide to the Zombie Apocalypse', 'The Limey', 'Celeste & Jesse Forever', 'Gummo', 'Dark Water', 'Barbarella', 'Rumble Fish', 'Muppets Most Wanted', 'The Lord of the Rings', 'Before We Go', 'Them', 'Universal Soldier: The Return', 'Radio Days', 'Powder', 'A Mighty Heart', 'Looney Tunes: Back in Action', 'The Idiots', 'Michael Collins', 'The Many Adventures of Winnie the Pooh', 'Leaves of Grass', 'Things We Lost in the Fire', 'Hop', 'Single White Female', 'Harry and the Hendersons', 'The Accused', 'The Quiet American', \"My Boss's Daughter\", 'Song of the Sea', 'An Unfinished Life', 'The Hidden Fortress', 'Stalingrad', 'Sorority Row', 'Au Revoir les Enfants', 'Nixon', 'Primary Colors', 'Altered States', 'Reno 911!: Miami', 'Undisputed 2: Last Man Standing', 'Playing for Keeps', 'The Man Who Knew Too Little', 'Jimmy Neutron: Boy Genius', 'Serial (Bad) Weddings', 'Dressed to Kill', 'The Football Factory', \"Can't Buy Me Love\", 'Miss Potter', 'Tales from Earthsea', 'The People Under the Stairs', 'King of New York', 'Popeye', 'Shaun the Sheep Movie', 'Club Dread', 'Real Genius', 'Young Guns II: Blaze of Glory', 'What Just Happened', 'Hush', 'Torque', 'Romeo and Juliet', 'New Jack City', 'The Tailor of Panama', 'A Man for All Seasons', 'The Expatriate', 'The Conspirator', 'You Got Served', 'Sleep Tight', 'Mutant Chronicles', '8 Women', 'The Double', 'Another Year', 'Murder at 1600', 'And Now for Something Completely Different', 'From Justin to Kelly', 'Andrei Rublev', 'Critters', 'Suspicion', 'Virtuosity', 'Creep', 'Oscar', 'Searching for Bobby Fischer', 'Escape from the Planet of the Apes', 'The Perfect Man', 'Mesrine Part 2: Public Enemy Number 1', 'Kagemusha', 'Rabbit-Proof Fence', 'Cyborg', 'Heavy Metal', '13 Sins', 'Kangaroo Jack', 'Interstate 60: Episodes of the Road', 'Henry V', 'Naked', '*batteries not included', 'The Stepfather', 'Confessions of a Teenage Drama Queen', 'Paul Blart: Mall Cop 2', 'Fortress', 'Nosferatu the Vampyre', 'Regarding Henry', 'The Assassination of Richard Nixon', 'The Replacement Killers', 'Sid and Nancy', 'Hatchet', 'Body Heat', 'Black', 'McFarland', 'Krull', 'A Civil Action', 'To Have and Have Not', 'Adore', 'The Salvation', 'Conquest of the Planet of the Apes', 'Henry: Portrait of a Serial Killer', 'Maximum Overdrive', 'The Lion in Winter', 'Housebound', 'Lone Star', 'Blood In, Blood Out', 'Paper Moon', 'The Holy Mountain', 'Pride and Prejudice and Zombies', 'Tequila Sunrise', 'Love & Mercy', 'I Know Who Killed Me', 'Loser', 'Blown Away', 'Pollock', 'Cry Wolf', 'The Secret of My Success', 'Way of the Dragon', 'Curse of Chucky', 'Unfinished Business', 'Imagine Me & You', 'The Fearless Vampire Killers', '...and justice for all.', 'Raw Deal', 'Out of the Past', 'Mighty Joe Young', 'Vampire Hunter D: Bloodlust', 'Mannequin', 'Love Story', 'Killer Klowns from Outer Space', 'Sliver', 'The Angry Birds Movie', 'Batman: The Movie', 'Friday the 13th Part VIII: Jason Takes Manhattan', 'Halloween 5: The Revenge of Michael Myers', 'Stretch', 'The Warlords', 'Would You Rather', 'Memphis Belle', 'Win a Date with Tad Hamilton!', 'Men, Women & Children', '12 Rounds', 'Alvin and the Chipmunks: Chipwrecked', 'The Blob', 'Firestarter', 'Live Flesh', 'Obsessed', 'Take the Money and Run', 'Battle for the Planet of the Apes', 'The Secret of Kells', 'Nell', 'Money Talks', 'The Oxford Murders', 'The Howling', 'Waiting for Guffman', 'The One I Love', 'Species II', 'American Dreamz', 'The Way', 'Hardball', 'A Little Bit of Heaven', 'The Man Without a Face', 'Are We There Yet?', 'Raise Your Voice', 'Frankie and Johnny', 'Suicide Kings', 'Beyond Borders', 'Singles', 'Hours', 'The Omega Man', '1492: Conquest of Paradise', 'King Kong', 'Friday the 13th V: A New Beginning', 'Take This Waltz', 'Stick It', 'Godsend', 'Gentlemen Prefer Blondes', 'Tekken', 'Riding in Cars with Boys', 'A Mighty Wind', 'Phantasm', 'Death Note', 'The Truth About Cats & Dogs', 'Lord of the Flies', \"Things to Do in Denver When You're Dead\", 'Above the Law', 'Problem Child', 'Sophie Scholl: The Final Days', \"The Warrior's Way\", 'The Sisterhood of the Traveling Pants 2', \"Look Who's Talking Now\", 'Rollerball', 'The Second Best Exotic Marigold Hotel', 'The Greatest Game Ever Played', 'A Guide to Recognizing Your Saints', 'In the House', 'Mystery, Alaska', 'Omen II: Damien', 'Freeway', 'SLC Punk!', 'The Watcher', 'Anacondas: The Hunt for the Blood Orchid', 'A Lonely Place to Die', 'The Two Faces of January', 'An American Haunting', 'Angels in the Outfield', 'Main Hoon Na', 'Pontypool', 'Always', 'You Can Count on Me', 'A Love Song for Bobby Long', 'Mermaids', 'Fitzcarraldo', 'Casino Royale', 'Miss Pettigrew Lives for a Day', '20,000 Leagues Under the Sea', 'The Pink Panther Strikes Again', 'The Magdalene Sisters', 'Instructions Not Included', 'Barbershop', 'Max Manus: Man of War', 'Upstream Colour', 'The Black Cauldron', 'Get Carter', 'Who Am I', 'Universal Soldier: Regeneration', 'The Hunting Party', 'Bulworth', 'Major Payne', 'Virus', 'Dragon: The Bruce Lee Story', 'An American in Paris', 'Vanishing on 7th Street', 'Gettysburg', 'The Man', 'The Changeling', 'Paan Singh Tomar', 'Peeping Tom', 'An Affair to Remember', 'Jeune & Jolie', 'Drop Dead Fred', 'Police Academy 6: City Under Siege', 'Dead Again', 'A Fistful of Dynamite', 'See No Evil', 'Dirty Dancing: Havana Nights', \"Julia's Eyes\", 'Air America', 'Millions', 'Yours, Mine & Ours', 'Sherlock Jr.', 'Take the Lead', \"Don't Tell Mom the Babysitter's Dead\", 'Village of the Damned', 'Frozen River', 'Hard to Kill', 'The Mosquito Coast', 'Dilwale', 'Survivor', 'The Hills Have Eyes', 'Murder in the First', 'Black Christmas', 'Back to School', 'Shut Up!', 'Top Five', 'Sleeping with Other People', 'The Jane Austen Book Club', 'Kundun', 'The Santa Clause 3: The Escape Clause', \"Your Sister's Sister\", 'Hollywood Ending', 'Vanishing Point', 'Ned Kelly', 'Bio-Dome', 'What Maisie Knew', 'Cleopatra', 'Birthday Girl', 'Dragon Wars', 'The Resident', 'Open Grave', 'Undisputed', 'Now and Then', 'Husbands and Wives', 'Outland', 'The Good German', 'Ruthless People', 'UHF', 'Joyeux Noel', 'Crazy/Beautiful', 'Ip Man 3', 'Barnyard', 'How I Live Now', 'My Name Is Bruce', 'On Golden Pond', 'La Bamba', 'Jeremiah Johnson', 'Rogue', 'Mirror', 'Bright Star', 'Arthur', 'Miracle on 34th Street', \"A Midsummer Night's Dream\", 'Metro', 'City by the Sea', 'The Breath', 'Friday the 13th VII: The New Blood', 'Fanaa', 'The Homesman', 'Absolutely Anything', 'Red River', 'White Christmas', 'The Necessary Death of Charlie Countryman', 'Domestic Disturbance', 'Broadcast News', 'Over Her Dead Body', 'Howards End', 'Waking Ned', 'Shopgirl', 'My Life Without Me', 'Mandela: Long Walk to Freedom', 'Serial Mom', 'Dom Hemingway', 'The Green Inferno', 'Parental Guidance', 'Last Holiday', 'Ek Tha Tiger', 'View from the Top', 'To Wong Foo Thanks for Everything, Julie Newmar', 'Pump Up the Volume', 'The Kid with a Bike', 'Deep Red', 'Cutthroat Island', 'Bugsy', 'My Stepmother Is an Alien', \"Barney's Version\", 'Hana-Bi', 'To the Wonder', 'Somewhere in Time', 'Heaven Is for Real', 'Heartbreaker', 'The Getaway', 'Pawn Sacrifice', 'To Live and Die in L.A.', 'Fast Food Nation', 'English Vinglish', 'Runaway Train', 'The Ice Harvest', 'Before Night Falls', 'Smart People', 'The Grifters', 'Good Burger', 'Escape to Victory', 'Raise the Red Lantern', 'Secretariat', 'Shark Night 3D', 'Halloween: The Curse of Michael Myers', 'The Ladykillers', 'Inherit the Wind', \"All the King's Men\", 'Amazing Grace', 'Buffalo Soldiers', 'White Bird in a Blizzard', 'The Disappearance of Alice Creed', 'Goodnight Mommy', 'FernGully: The Last Rainforest', 'Barb Wire', 'The Indian in the Cupboard', 'Danny Collins', 'The China Syndrome', 'The Thin Man', 'DuckTales the Movie: Treasure of the Lost Lamp', 'Fire with Fire', 'The Boys from Brazil', 'Alice Through the Looking Glass', 'The World According to Garp', 'White Heat', 'Mask', 'Silent Running', 'Captivity', 'Escape from Planet Earth', 'We Are Your Friends', 'The Immigrant', 'Celebrity', 'In Your Eyes', 'The 33', 'Regression', 'Asterix at the Olympic Games', 'The Invisible Man', 'Sightseers', 'Georgia Rule', 'Coming Soon', 'Vizontele', 'Cross of Iron', 'Valentine', 'Major League II', \"Knockin' on Heaven's Door\", 'Heaven', 'He Was a Quiet Man', 'The Contender', 'The Forest', 'Wait Until Dark', 'La Règle du Jeu', 'Speak', 'Repo! The Genetic Opera', 'Strictly Ballroom', 'Point of No Return', 'Peaceful Warrior', 'Son of Saul', 'Lifeboat', 'The Contract', 'Cape Fear', 'Dabangg', 'The Lords of Salem', 'Sanjuro', 'Vera Drake', 'Suffragette', 'Pluto Nash', 'Mirrormask', 'Tangerines', 'Frontière(s)', 'The Adventures of Sharkboy and Lavagirl 3-D', 'Hellraiser III: Hell on Earth', 'Cop Car', 'Gilda', 'Raanjhanaa', 'Stealing Beauty', 'Snow Dogs', 'Autumn in New York', 'Aashiqui 2', 'Stormbreaker', 'The Rookie', 'The Quiet Earth', 'Screamers', 'Third Person', 'Boomerang', \"Marvin's Room\", 'The Perfect Host', 'Big Game', 'Postal', 'The Caine Mutiny', '9 to 5', 'The Red Shoes', 'Dev.D', 'Zombie Flesh Eaters', 'I Spit on Your Grave', 'Body Double', 'War, Inc.', 'Dirty Work', 'Running with Scissors', 'Some Kind of Wonderful', 'Impostor', \"But I'm a Cheerleader\", 'Welcome to the Rileys', 'Breaking and Entering', 'Thanks for Sharing', 'Rare Exports: A Christmas Tale', 'Cries and Whispers', 'Taxi 4', 'The Shop Around the Corner', 'The United States of Leland', 'I.Q.', 'The Bay', 'Black Christmas', 'Sweet Smell of Success', 'Death Race 2000', 'The Taking of Pelham One Two Three', 'Addicted to Love', 'King of California', 'Secret in Their Eyes', 'Control', 'A.R.O.G', 'Street Fighter: The Legend of Chun-Li', 'Man of the House', 'Firefox', 'Contempt', 'Belle', 'Thinner', 'Cronos', 'Knockaround Guys', 'Angus, Thongs and Perfect Snogging', 'Weekend', 'Mr. Nice Guy', 'Kazaam', 'Jean de Florette', 'Friends with Money', 'Fly Away Home', 'Bloody Sunday', 'Rampart', 'Animal Attraction', 'The Perfect Score', 'D-Tox', 'Ice Princess', 'The Astronaut Farmer', 'Igor', 'Angel Eyes', 'Crocodile Dundee in Los Angeles', 'The Exterminating Angel', 'Jesus Christ Superstar', 'A Prairie Home Companion', 'Palo Alto', 'Dead End', 'Big Mommas: Like Father, Like Son', 'The Brave Little Toaster', \"Let's Go to Prison\", 'Albert Nobbs', 'Death on the Nile', 'Trapped', 'Crossing Over', 'The Return of the Pink Panther', 'Getaway', 'Play It Again, Sam', 'Return to Oz', 'Hiroshima Mon Amour', 'A Shot in the Dark', 'Calendar Girls', 'Just Cause', 'The Monster Squad', 'Scarface', 'Paradise Now', 'Stomp the Yard', 'Flawless', 'Little Giants', 'The Nut Job', 'Baby Geniuses', 'The Dressmaker', 'The Good Lie', 'Police Story', 'The Man with Two Brains', 'The Pact', 'Starship Troopers 3: Marauder', 'Fierce Creatures', 'Hunting Season', 'Elegy', 'Glitter', 'Neon Genesis Evangelion: The End of Evangelion', 'The Secret Life of Bees', 'The Woman in Black 2: Angel of Death', 'Fading Gigolo', 'Life or Something Like It', 'Monsoon Wedding', 'Pierrot le Fou', 'The Great Gatsby', 'London', 'Sniper', 'Dragon Ball Z: Battle of Gods', 'Jason Goes to Hell: The Final Friday', 'Grumpier Old Men', 'Friday After Next', 'An American Werewolf in Paris', 'The Toxic Avenger', 'The Ref', 'All That Jazz', 'The Texas Chainsaw Massacre 2', \"Beethoven's 2nd\", 'Tokyo Godfathers', 'The Lady from Shanghai', 'Nanny McPhee and the Big Bang', 'Injustice', 'Human Traffic', 'Poltergeist II: The Other Side', 'Material Girls', 'Ace in the Hole', 'Red Cliff II', 'The King and I', 'The Relic', 'Swimming with Sharks', 'The Innocents', 'Get Low', 'The Hole', 'Van Wilder 2: The Rise of Taj', 'The Invitation', 'Selena', 'Love in the Time of Cholera', 'Dil Se..', 'Play Misty for Me', 'Colors', 'The Magician', 'Down to Earth', 'Hamburger Hill', 'Kai po che!', 'The Blue Elephant', 'The Last Unicorn', 'New Police Story', 'Mighty Morphin Power Rangers: The Movie', 'D3: The Mighty Ducks', 'Yellow Submarine', 'The Upside of Anger', 'In Cold Blood', 'Junebug', 'The Accidental Husband', 'To Be or Not to Be', 'The Importance of Being Earnest', 'Hope Floats', 'Gorillas in the Mist', 'Dear Frankie', 'Tracks', 'From Up on Poppy Hill', 'Away from Her', 'La Belle et la Bête', 'The Virgin Spring', 'Josie and the Pussycats', 'Funny Face', 'Last Days', 'Color of Night', 'Stakeout', 'Godzilla', 'The Wild', 'Code Name: K.O.Z.', 'The Captive', 'Django', 'Wonderland', 'Son of a Gun', 'Max', 'The Final Girls', 'Harakiri', 'Thumbsucker', 'Laws of Attraction', 'Heavyweights', 'The Last Mimzy', 'The Art of the Steal', 'The Thing from Another World', 'The Shadow', 'The Spanish Prisoner', 'Immortal Beloved', 'Reservation Road', 'Brokedown Palace', 'Diary of a Wimpy Kid 2: Rodrick Rules', 'The Wrong Man', 'Jawbreaker', 'The Quest', 'Joint Security Area', 'Little Manhattan', 'Catch and Release', 'The Hidden Face', 'Gambit', 'Rififi', 'The Big Boss', 'Manderlay', 'In the Cut', 'Torn Curtain', 'ATM', 'Green Card', 'Broadway Danny Rose', \"Prizzi's Honor\", 'Redbelt', 'I Spit on Your Grave 2', 'Strange Wilderness', 'Silent House', 'Fist of Fury', 'Killshot', 'The Little Death', 'Brother', 'Dear White People', 'Suck Me Shakespeer', 'Horsemen', 'Wolf Children', 'Ink', 'The Black Hole', 'Beautiful Thing', '100 Girls', '10 Years', 'Heartbeats', 'Resurrecting the Champ', 'The Million Dollar Hotel', 'Jodhaa Akbar', 'Chalet Girl', 'The Vanishing', 'Doghouse', 'Wrongfully Accused', \"Ivan's Childhood\", 'Mystery Train', 'The Story of Us', 'X+Y', 'Legionnaire', 'Simon Birch', 'The Next Karate Kid', 'Little White Lies', 'The Signal', 'Factory Girl', 'The Girl Next Door', 'Short Circuit 2', 'Enthiran', 'Lucky You', 'Cold Creek Manor', 'Miss March', 'Bajirao Mastani', 'State and Main', 'Fist of Legend', 'The Tale of the Princess Kaguya', 'Soul Plane', 'The Master of Disguise', 'The Opposite of Sex', 'El Topo', 'The Long Goodbye', 'Malice', 'Stir Crazy', 'Mystic Pizza', \"St. Trinian's\", 'A Good Old Fashioned Orgy', 'The Great Raid', 'High and Low', \"I'm a Cyborg\", 'Under Suspicion', 'Dreams', 'Vidocq', 'Men at Work', 'Immortal', 'Whiskey Tango Foxtrot', 'Tokarev', 'Jungle 2 Jungle', 'Eight Crazy Nights', 'Code 46', 'Private Benjamin', \"The Angels' Share\", 'Beaches', 'The Body', 'The Twilight Samurai', 'Setup', 'The Circus', 'Mohabbatein', 'Pieces of April', 'Arn: The Knight Templar', 'Last Chance Harvey', 'Free Birds', '45 Years', 'Time of the Gypsies', 'Rookie of the Year', 'Tuck Everlasting', 'Magic Carpet Ride', 'Around the World in 80 Days', 'School Ties', 'On Deadly Ground', 'The Bounty', \"Sullivan's Travels\", 'Nights in Rodanthe', 'Annapolis', 'Cyrano de Bergerac', 'The NeverEnding Story II: The Next Chapter', 'Waiting for Forever', 'Dolphin Tale', \"L'Avventura\", 'Love', 'I Killed My Mother', 'Mr. Turner', 'The Brood', 'Below', 'Wake Up Sid', 'White Squall', 'Mr. Right', 'The Adventures of Buckaroo Banzai Across the 8th Dimension', 'Bullhead', 'Tie Me Up! Tie Me Down!', 'Beverly Hills Chihuahua', 'Sgt. Bilko', 'Vivre Sa Vie', 'Z', 'The Goods: Live Hard, Sell Hard', 'The Exorcist III', \"You Can't Take It with You\", '9 Songs', 'One Eight Seven', 'The History Boys', 'YPF', 'The Conformist', 'Stop-Loss', 'The End of the Affair', 'Dersu Uzala', 'The Tin Drum', 'The Fabulous Baker Boys', 'Saints and Soldiers', 'New York Minute', \"I've Loved You So Long\", 'Hamlet', 'Wind Chill', 'The Bonfire of the Vanities', 'Meet Bill', 'The Asphalt Jungle', 'Farewell My Concubine', 'Accidental Hero', 'The Swan Princess', 'Enigma', 'Fearless', 'Cleanskin', 'Clouds of Sils Maria', 'Mars Needs Moms', 'Intruders', 'El Dorado', 'Great Expectations', 'Lonely Hearts', 'Jaane Tu... Ya Jaane Na', 'Cemetery Junction', 'My Name Is Nobody', '1900', 'Bounce', 'Bad News Bears', 'The Man Without a Past', 'Nashville', 'Nothing But Trouble', '3 Men and a Little Lady', 'Death and the Maiden', 'No', 'The Trip', 'Survival of the Dead', 'Together', 'The Hunger', 'New in Town', 'Breakfast on Pluto', 'Medicine Man', 'Delhi Belly', 'Martian Child', 'Bride & Prejudice', 'Breaking Away', 'The Serpent and the Rainbow', 'The Brady Bunch Movie', 'Saboteur', 'Birdy', 'Closed Circuit', 'Vanity Fair', 'Leprechaun', 'Surviving Christmas', 'Serena', 'Every Which Way but Loose', 'Memoirs of an Invisible Man', 'O', \"We're No Angels\", 'My Sassy Girl', 'Walkabout', 'Killing Zoe', 'Feardotcom', 'The Shootist', 'Disturbing Behavior', 'Big Trouble', 'Titus', 'Lesbian Vampire Killers', 'The Secret Life of Pets', 'The Man Who Fell to Earth', 'Nobody Knows', 'Catch-22', 'Vampire in Brooklyn', 'Dark Blue', 'Jason and the Argonauts', 'Teaching Mrs. Tingle', 'A Girl Walks Home Alone at Night', 'Creature from the Black Lagoon', 'Tamara Drewe', 'Mad Dog and Glory', 'Casa de mi Padre', 'An American Tail: Fievel Goes West', 'Starter for 10', 'Dhoom 2', 'How to Steal a Million', 'Kick', 'Hoffa', 'House', 'Two Mules for Sister Sara', 'Lost and Delirious', 'Rollerball', 'Grave Encounters 2', 'Echelon Conspiracy', 'Fireproof', 'Teenage Mutant Ninja Turtles: Out of the Shadows', 'Baazigar', 'Behind the Mask: The Rise of Leslie Vernon', 'Nowhere to Run', 'Twisted', 'Random Hearts', 'First Daughter', \"Angela's Ashes\", 'Tanu Weds Manu Returns', 'The Pyramid', 'The Woman', 'The End of the Tour', 'They Came Together', 'Rosencrantz & Guildenstern Are Dead', 'The Birth of a Nation', 'Recep Ivedik', 'About Last Night', 'HouseSitter', \"I'm So Excited\", 'If....', 'Dark Star', 'Down Periscope', 'Bailout: The Age of Greed', 'Psycho II', 'Metropolis', 'Butter', 'Out for Justice', 'Ondine', 'Wrong Turn 4: Bloody Beginnings', 'Blind Date', 'Captain Ron', \"It's All Gone Pete Tong\", 'The Alamo', 'Problem Child 2', 'Mad Money', 'In a Lonely Place', 'Honeymoon', 'The Magnificent Ambersons', 'Pink Flamingos', 'After the Dark', 'Ballistic: Ecks vs. Sever', 'Barefoot', 'Bodyguard', 'The House of the Spirits', 'The Postman Always Rings Twice', 'Gaslight', \"Dead Men Don't Wear Plaid\", 'Curly Sue', 'Darkness', 'The Do-Over', 'City Hall', 'Alphaville', 'Manon des Sources', 'Eyes Without a Face', 'American Mary', 'The Big Heat', 'Cool World', 'Bunraku', \"Cat's Eye\", \"Pete's Dragon\", 'When a Man Loves a Woman', 'The Express', 'In July', 'Passion', 'The Fly II', 'Tales from the Crypt: Demon Knight', 'Russian Dolls', 'My Dog Skip', 'Down in the Valley', 'The Adventures of Rocky & Bullwinkle', 'The Thomas Crown Affair', 'Clockers', 'Jessabelle', 'Juice', 'House of Games', 'Umberto D.', 'The Women', 'Aliens in the Attic', 'The Promotion', 'Mad City', 'Summer Wars', 'Suspect Zero', 'Highway', 'Playing by Heart', 'Needful Things', 'Money Monster', 'The Namesake', 'Obvious Child', '9th Company', 'Silver Bullet', 'Lantana', 'Bang Bang', 'A Sound of Thunder', 'Return to Me', 'The Sweeney', \"She's Funny That Way\", 'Easy Virtue', 'Stardust Memories', \"I Don't Know How She Does It\", 'Mansfield Park', 'My Soul to Take', 'The Best of Youth', 'Six Degrees of Separation', 'Battle Royale II', \"Lorenzo's Oil\", 'Afflicted', 'Three to Tango', 'Z for Zachariah', 'Bande à Part', 'Yogi Bear', 'My Darling Clementine', 'Lupin III: The Castle of Cagliostro', 'Desperately Seeking Susan', 'Phantoms', 'Earth Girls Are Easy', 'My Summer of Love', 'Rome, Open City', 'The Blob', '3 Ninja Kids', 'Highlander: Endgame', 'Room in Rome', 'Fame', 'The Bad News Bears', 'The Chumscrubber', 'Swimfan', 'The Wolf Man', 'Sleepaway Camp', 'State of Grace', 'The Diary of a Teenage Girl', 'The Way We Were', 'Exorcist II: The Heretic', 'Mustang', 'Quest for Fire', 'Holy Man', 'The Apparition', 'Eagle vs Shark', 'The Leopard', 'Hotel for Dogs', 'Reds', 'Veronica Guerin', 'You Kill Me', 'Burke and Hare', 'The Yards', 'The Borrowers', 'Kopps', 'The Last Detail', 'The Angriest Man in Brooklyn', 'Toy Soldiers', 'Rise of the Footsoldier', 'Highlander III: The Sorcerer', \"You're Not You\", 'Universal Soldier: Day of Reckoning', 'Viridiana', 'Turbo Kid', 'Cemetery Man', 'Yahsi Bati - The Ottoman Cowboys', 'Nightwatch', 'Fallen Angels', 'The Punisher', 'Mutiny on the Bounty', 'Ben X', 'Phenomena', 'He Loves Me, He Loves Me Not', 'The Final Countdown', 'Knights of Badassdom', 'In China They Eat Dogs', 'Battle of Britain', 'Havoc', 'Fire in the Sky', 'Shrink', 'Mr. Mum', 'Dick', 'American Gigolo', 'Heist', 'Seven Brides for Seven Brothers', 'Playing It Cool', 'A Moment to Remember', 'Hairspray', 'McCabe & Mrs. Miller']\n"
     ]
    }
   ],
   "source": [
    "#creating a list of all the movie given in the dataset\n",
    "list_of_all_title=dataset[\"title\"].tolist()\n",
    "print(list_of_all_title)"
   ]
  },
  {
   "cell_type": "code",
   "execution_count": 60,
   "id": "275067d8",
   "metadata": {},
   "outputs": [],
   "source": [
    "##finding the close match for the movie name given by the user\n",
    "find_close_match=difflib.get_close_matches(movie_name,list_of_all_title)"
   ]
  },
  {
   "cell_type": "code",
   "execution_count": 61,
   "id": "ff2f3d1f",
   "metadata": {},
   "outputs": [
    {
     "name": "stdout",
     "output_type": "stream",
     "text": [
      "['Johnny English', 'Johnny English Reborn', 'Johnny Mnemonic']\n"
     ]
    }
   ],
   "source": [
    "print(find_close_match)"
   ]
  },
  {
   "cell_type": "code",
   "execution_count": 53,
   "id": "00d16b5c",
   "metadata": {},
   "outputs": [
    {
     "data": {
      "text/html": [
       "<div>\n",
       "<style scoped>\n",
       "    .dataframe tbody tr th:only-of-type {\n",
       "        vertical-align: middle;\n",
       "    }\n",
       "\n",
       "    .dataframe tbody tr th {\n",
       "        vertical-align: top;\n",
       "    }\n",
       "\n",
       "    .dataframe thead th {\n",
       "        text-align: right;\n",
       "    }\n",
       "</style>\n",
       "<table border=\"1\" class=\"dataframe\">\n",
       "  <thead>\n",
       "    <tr style=\"text-align: right;\">\n",
       "      <th></th>\n",
       "      <th>poster</th>\n",
       "      <th>title</th>\n",
       "      <th>certificate</th>\n",
       "      <th>runtime</th>\n",
       "      <th>genre</th>\n",
       "      <th>rating</th>\n",
       "      <th>about</th>\n",
       "      <th>director</th>\n",
       "      <th>stars</th>\n",
       "      <th>votes</th>\n",
       "      <th>gross_earn</th>\n",
       "    </tr>\n",
       "  </thead>\n",
       "  <tbody>\n",
       "    <tr>\n",
       "      <th>2804</th>\n",
       "      <td>https://m.media-amazon.com/images/S/sash/4Fyxw...</td>\n",
       "      <td>Calvary</td>\n",
       "      <td>15</td>\n",
       "      <td>102 min</td>\n",
       "      <td>Crime, Drama, Mystery</td>\n",
       "      <td>7.4</td>\n",
       "      <td>After he is threatened during a confession, a ...</td>\n",
       "      <td>John Michael McDonagh</td>\n",
       "      <td>('Brendan Gleeson',), (\"Chris O'Dowd\",), ('Kel...</td>\n",
       "      <td>59,385</td>\n",
       "      <td>$3.59M</td>\n",
       "    </tr>\n",
       "  </tbody>\n",
       "</table>\n",
       "</div>"
      ],
      "text/plain": [
       "                                                 poster    title certificate  \\\n",
       "2804  https://m.media-amazon.com/images/S/sash/4Fyxw...  Calvary          15   \n",
       "\n",
       "      runtime                  genre  rating  \\\n",
       "2804  102 min  Crime, Drama, Mystery     7.4   \n",
       "\n",
       "                                                  about  \\\n",
       "2804  After he is threatened during a confession, a ...   \n",
       "\n",
       "                   director  \\\n",
       "2804  John Michael McDonagh   \n",
       "\n",
       "                                                  stars   votes gross_earn  \n",
       "2804  ('Brendan Gleeson',), (\"Chris O'Dowd\",), ('Kel...  59,385     $3.59M  "
      ]
     },
     "execution_count": 53,
     "metadata": {},
     "output_type": "execute_result"
    }
   ],
   "source": [
    "dataset[dataset[\"title\"]==\"Calvary\"]"
   ]
  },
  {
   "cell_type": "code",
   "execution_count": null,
   "id": "e4747a3c",
   "metadata": {},
   "outputs": [],
   "source": []
  }
 ],
 "metadata": {
  "kernelspec": {
   "display_name": "Python 3 (ipykernel)",
   "language": "python",
   "name": "python3"
  },
  "language_info": {
   "codemirror_mode": {
    "name": "ipython",
    "version": 3
   },
   "file_extension": ".py",
   "mimetype": "text/x-python",
   "name": "python",
   "nbconvert_exporter": "python",
   "pygments_lexer": "ipython3",
   "version": "3.9.12"
  }
 },
 "nbformat": 4,
 "nbformat_minor": 5
}
